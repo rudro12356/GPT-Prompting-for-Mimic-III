{
 "cells": [
  {
   "cell_type": "code",
   "execution_count": 1,
   "metadata": {},
   "outputs": [],
   "source": [
    "import os\n",
    "import pandas as pd\n",
    "from datetime import datetime\n",
    "from pyhealth.datasets import MIMIC3Dataset\n",
    "from openai import OpenAI\n",
    "\n",
    "import json\n",
    "import tqdm as tqdm"
   ]
  },
  {
   "cell_type": "code",
   "execution_count": 2,
   "metadata": {},
   "outputs": [],
   "source": [
    "from dotenv import load_dotenv\n",
    "\n",
    "load_dotenv()\n",
    "\n",
    "MY_ENV_VAR = os.getenv('MY_ENV_VAR')"
   ]
  },
  {
   "cell_type": "code",
   "execution_count": 3,
   "metadata": {},
   "outputs": [
    {
     "name": "stdout",
     "output_type": "stream",
     "text": [
      "MY_ENV_VAR is set!\n"
     ]
    }
   ],
   "source": [
    "# check if the environment variable is set\n",
    "if MY_ENV_VAR is None:\n",
    "    print('MY_ENV_VAR is not set')\n",
    "else:\n",
    "    print(f'MY_ENV_VAR is set!')"
   ]
  },
  {
   "cell_type": "code",
   "execution_count": 1,
   "metadata": {},
   "outputs": [
    {
     "name": "stdout",
     "output_type": "stream",
     "text": [
      "INFO: Pandarallel will run on 12 workers.\n",
      "INFO: Pandarallel will use standard multiprocessing data transfer (pipe) to transfer data between the main process and workers.\n",
      "finish basic patient information parsing : 13.98098611831665s\n",
      "finish parsing DIAGNOSES_ICD : 9.659971714019775s\n",
      "finish parsing PROCEDURES_ICD : 7.235107183456421s\n",
      "finish parsing PRESCRIPTIONS : 222.79340291023254s\n"
     ]
    },
    {
     "name": "stderr",
     "output_type": "stream",
     "text": [
      "Mapping codes: 100%|██████████| 46520/46520 [00:09<00:00, 4751.49it/s]\n"
     ]
    }
   ],
   "source": [
    "from pyhealth.datasets import MIMIC3Dataset\n",
    "\n",
    "dataset = MIMIC3Dataset(\n",
    "    root=\"/Users/home/Professor Zijun Yao Lab/GPT experiment/EHR Data Sample/MIMIC-III/mimic-iii-clinical-database-1.4\",\n",
    "    tables=[\"DIAGNOSES_ICD\", \"PROCEDURES_ICD\", \"PRESCRIPTIONS\"],\n",
    "    code_mapping={\"ICD9CM\": \"CCSCM\"}\n",
    ")"
   ]
  },
  {
   "cell_type": "code",
   "execution_count": 5,
   "metadata": {},
   "outputs": [
    {
     "name": "stdout",
     "output_type": "stream",
     "text": [
      "\n",
      "Statistics of base dataset (dev=False):\n",
      "\t- Dataset: MIMIC3Dataset\n",
      "\t- Number of patients: 46520\n",
      "\t- Number of visits: 58976\n",
      "\t- Number of visits per patient: 1.2678\n",
      "\t- Number of events per visit in DIAGNOSES_ICD: 11.0384\n",
      "\t- Number of events per visit in PROCEDURES_ICD: 4.0711\n",
      "\t- Number of events per visit in PRESCRIPTIONS: 70.4013\n",
      "\n"
     ]
    },
    {
     "data": {
      "text/plain": [
       "'\\nStatistics of base dataset (dev=False):\\n\\t- Dataset: MIMIC3Dataset\\n\\t- Number of patients: 46520\\n\\t- Number of visits: 58976\\n\\t- Number of visits per patient: 1.2678\\n\\t- Number of events per visit in DIAGNOSES_ICD: 11.0384\\n\\t- Number of events per visit in PROCEDURES_ICD: 4.0711\\n\\t- Number of events per visit in PRESCRIPTIONS: 70.4013\\n'"
      ]
     },
     "execution_count": 5,
     "metadata": {},
     "output_type": "execute_result"
    }
   ],
   "source": [
    "dataset.stat()"
   ]
  },
  {
   "cell_type": "code",
   "execution_count": 6,
   "metadata": {},
   "outputs": [],
   "source": [
    "# from pyhealth.medcode import ICD9PROC, ICD10PROC\n",
    "\n",
    "# def try_all_mappings(code):\n",
    "#     mapping_classes = [ICD9PROC(), ICD10PROC()]\n",
    "    \n",
    "#     for mapping in mapping_classes:\n",
    "#         try:\n",
    "#             description = mapping.lookup(code)\n",
    "#             if description:  # Check if a valid description was returned\n",
    "#                 return description\n",
    "#         except KeyError:\n",
    "#             continue  # If KeyError, try the next mapping class\n",
    "\n",
    "#     # If no mapping was successful\n",
    "#     print(f\"Procedure code {code} not found in any mapping.\")\n",
    "#     return f\"Unknown Code ({code})\""
   ]
  },
  {
   "cell_type": "markdown",
   "metadata": {},
   "source": [
    "# Mortality prediction"
   ]
  },
  {
   "cell_type": "code",
   "execution_count": 7,
   "metadata": {},
   "outputs": [],
   "source": [
    "from pyhealth.medcode import ICD9CM, ICD10CM, CCSCM, ICD9PROC, ICD10PROC, CCSPROC, NDC, RxNorm, ATC\n",
    "\n",
    "# Initialize the necessary conversion classes\n",
    "icd9cm = ICD9CM()\n",
    "icd10cm = ICD10CM()\n",
    "ccscm = CCSCM()\n",
    "\n",
    "icd9proc = ICD9PROC()\n",
    "icd10proc = ICD10PROC()\n",
    "ccsproc = CCSPROC()\n",
    "\n",
    "ndc = NDC()\n",
    "rxnorm = RxNorm()\n",
    "atc = ATC()"
   ]
  },
  {
   "cell_type": "code",
   "execution_count": 8,
   "metadata": {},
   "outputs": [],
   "source": [
    "def convert_code(code, *mappings):\n",
    "    \"\"\"Utility function to convert a code using multiple mappings.\"\"\"\n",
    "    for mapping in mappings:\n",
    "        try:\n",
    "            description = mapping.lookup(code)\n",
    "            if description:\n",
    "                return description\n",
    "        except KeyError:\n",
    "            continue\n",
    "    return code  # Return the original code if all mappings fail"
   ]
  },
  {
   "cell_type": "markdown",
   "metadata": {},
   "source": [
    "Use the last visit in the for loop"
   ]
  },
  {
   "cell_type": "code",
   "execution_count": 9,
   "metadata": {},
   "outputs": [],
   "source": [
    "def mortality_prediction_last_visit(patient):\n",
    "    samples = []\n",
    "    last_visit = None\n",
    "\n",
    "    # Iterate through all visits to find the last one\n",
    "    for visit in patient:\n",
    "        last_visit = visit\n",
    "\n",
    "    # Check if we found any visits\n",
    "    if last_visit is None:\n",
    "        return samples  # No visits, skip this patient\n",
    "\n",
    "    # Get the discharge status from the last visit\n",
    "    if not hasattr(last_visit, 'discharge_status'):\n",
    "        return samples  # Skip if no discharge status\n",
    "\n",
    "    mortality_label = 0 if last_visit.discharge_status not in [0, 1] else int(last_visit.discharge_status)\n",
    "\n",
    "    # Extract diagnosis codes from DIAGNOSES_ICD\n",
    "    conditions = last_visit.get_code_list(table=\"DIAGNOSES_ICD\")\n",
    "    conditions_desc = [convert_code(code, icd9cm) for code in conditions[:5]]\n",
    "\n",
    "    # Extract procedure codes from PROCEDURES_ICD\n",
    "    procedures = last_visit.get_code_list(table=\"PROCEDURES_ICD\")\n",
    "    procedures_desc = [convert_code(code, icd9proc) for code in procedures[:5]]\n",
    "\n",
    "    # Extract prescription codes from PRESCRIPTIONS\n",
    "    drugs = last_visit.get_code_list(table=\"PRESCRIPTIONS\")\n",
    "    drugs_desc = [convert_code(code, ndc, rxnorm, atc) for code in drugs[:3]]\n",
    "\n",
    "    # Ensure there is valid data to append\n",
    "    if len(conditions_desc) * len(procedures_desc) * len(drugs_desc) == 0:\n",
    "        return samples  # Skip if no valid data\n",
    "\n",
    "    # Add the sample from the last visit\n",
    "    samples.append(\n",
    "        {\n",
    "            \"visit_id\": last_visit.visit_id,\n",
    "            \"patient_id\": patient.patient_id,\n",
    "            \"conditions\": conditions_desc,\n",
    "            \"procedures\": procedures_desc,\n",
    "            \"drugs\": drugs_desc,\n",
    "            \"label\": mortality_label,\n",
    "        }\n",
    "    )\n",
    "    \n",
    "    return samples"
   ]
  },
  {
   "cell_type": "code",
   "execution_count": null,
   "metadata": {},
   "outputs": [],
   "source": []
  },
  {
   "cell_type": "code",
   "execution_count": 10,
   "metadata": {},
   "outputs": [
    {
     "name": "stderr",
     "output_type": "stream",
     "text": [
      "Generating samples for mortality_prediction_last_visit: 100%|██████████| 46520/46520 [00:09<00:00, 4682.80it/s] \n"
     ]
    },
    {
     "name": "stdout",
     "output_type": "stream",
     "text": [
      "Statistics of sample dataset:\n",
      "\t- Dataset: MIMIC3Dataset\n",
      "\t- Task: mortality_prediction_last_visit\n",
      "\t- Number of samples: 34689\n",
      "\t- Number of patients: 34689\n",
      "\t- Number of visits: 34689\n",
      "\t- Number of visits per patient: 1.0000\n",
      "\t- conditions:\n",
      "\t\t- Number of conditions per sample: 4.8516\n",
      "\t\t- Number of unique conditions: 4654\n",
      "\t\t- Distribution of conditions (Top-10): [('Coronary atherosclerosis of native coronary artery', 4954), ('Acute respiratory failure', 4199), ('Unspecified essential hypertension', 4147), ('Acute kidney failure, unspecified', 3808), ('Atrial fibrillation', 3759), ('Congestive heart failure, unspecified', 3340), ('Urinary tract infection, site not specified', 2314), ('Pneumonia, organism unspecified', 2205), ('Acute posthemorrhagic anemia', 2077), ('Unspecified septicemia', 1978)]\n",
      "\t- procedures:\n",
      "\t\t- Number of procedures per sample: 3.4543\n",
      "\t\t- Number of unique procedures: 1780\n",
      "\t\t- Distribution of procedures (Top-10): [('Venous catheterization, not elsewhere classified', 5719), ('Insertion of endotracheal tube', 5397), ('Continuous invasive mechanical ventilation for less than 96 consecutive hours', 5375), ('Extracorporeal circulation auxiliary to open heart surgery', 4845), ('Enteral infusion of concentrated nutritional substances', 3838), ('Single internal mammary-coronary artery bypass', 3443), ('Continuous invasive mechanical ventilation for 96 consecutive hours or more', 2878), ('Transfusion of packed cells', 2815), ('Coronary arteriography using two catheters', 2453), ('Prophylactic administration of vaccine against other diseases', 2116)]\n",
      "\t- drugs:\n",
      "\t\t- Number of drugs per sample: 2.9882\n",
      "\t\t- Number of unique drugs: 2029\n",
      "\t\t- Distribution of drugs (Top-10): [('0', 13898), ('1000 ML sodium chloride 9 MG/ML Injection', 3371), ('calcium chloride 0.0014 MEQ/ML / potassium chloride 0.004 MEQ/ML / sodium chloride 0.103 MEQ/ML / sodium lactate 0.028 MEQ/ML Injectable Solution', 2659), ('heparin sodium, porcine 5000 UNT/ML Injectable Solution', 2218), ('ampicillin 500 MG Injection', 2070), ('100 ML sodium chloride 9 MG/ML Injection', 2033), ('1000 ML sodium chloride 4.5 MG/ML Injection', 1835), ('250 ML glucose 50 MG/ML Injection', 1674), ('Fentanyl 0.05 MG/ML Injectable Solution', 1112), ('Propofol 10 MG/ML Injectable Suspension [Diprivan]', 1102)]\n",
      "\t- label:\n",
      "\t\t- Number of label per sample: 1.0000\n",
      "\t\t- Number of unique label: 2\n",
      "\t\t- Distribution of label (Top-10): [(0, 30568), (1, 4121)]\n",
      "{'visit_id': '184167', 'patient_id': '10', 'conditions': ['Single liveborn, born in hospital, delivered without mention of cesarean section', 'Neonatal jaundice associated with preterm delivery', '29-30 completed weeks of gestation', 'Other preterm infants, 1,250-1,499 grams', 'Observation for suspected infectious condition'], 'procedures': ['Other phototherapy', 'Parenteral infusion of concentrated nutritional substances', 'Enteral infusion of concentrated nutritional substances'], 'drugs': ['ampicillin 500 MG Injection', '0', 'Gentamicin Sulfate (USP) 10 MG/ML Injectable Solution'], 'label': 0}\n"
     ]
    }
   ],
   "source": [
    "mor_dataset = dataset.set_task(mortality_prediction_last_visit)\n",
    "mor_dataset.stat()\n",
    "\n",
    "# let us look at the first sample\n",
    "print(mor_dataset.samples[0])"
   ]
  },
  {
   "cell_type": "code",
   "execution_count": 11,
   "metadata": {},
   "outputs": [
    {
     "name": "stdout",
     "output_type": "stream",
     "text": [
      "Statistics of sample dataset:\n",
      "\t- Dataset: MIMIC3Dataset\n",
      "\t- Task: mortality_prediction_last_visit\n",
      "\t- Number of samples: 34689\n",
      "\t- Number of patients: 34689\n",
      "\t- Number of visits: 34689\n",
      "\t- Number of visits per patient: 1.0000\n",
      "\t- conditions:\n",
      "\t\t- Number of conditions per sample: 4.8516\n",
      "\t\t- Number of unique conditions: 4654\n",
      "\t\t- Distribution of conditions (Top-10): [('Coronary atherosclerosis of native coronary artery', 4954), ('Acute respiratory failure', 4199), ('Unspecified essential hypertension', 4147), ('Acute kidney failure, unspecified', 3808), ('Atrial fibrillation', 3759), ('Congestive heart failure, unspecified', 3340), ('Urinary tract infection, site not specified', 2314), ('Pneumonia, organism unspecified', 2205), ('Acute posthemorrhagic anemia', 2077), ('Unspecified septicemia', 1978)]\n",
      "\t- procedures:\n",
      "\t\t- Number of procedures per sample: 3.4543\n",
      "\t\t- Number of unique procedures: 1780\n",
      "\t\t- Distribution of procedures (Top-10): [('Venous catheterization, not elsewhere classified', 5719), ('Insertion of endotracheal tube', 5397), ('Continuous invasive mechanical ventilation for less than 96 consecutive hours', 5375), ('Extracorporeal circulation auxiliary to open heart surgery', 4845), ('Enteral infusion of concentrated nutritional substances', 3838), ('Single internal mammary-coronary artery bypass', 3443), ('Continuous invasive mechanical ventilation for 96 consecutive hours or more', 2878), ('Transfusion of packed cells', 2815), ('Coronary arteriography using two catheters', 2453), ('Prophylactic administration of vaccine against other diseases', 2116)]\n",
      "\t- drugs:\n",
      "\t\t- Number of drugs per sample: 2.9882\n",
      "\t\t- Number of unique drugs: 2029\n",
      "\t\t- Distribution of drugs (Top-10): [('0', 13898), ('1000 ML sodium chloride 9 MG/ML Injection', 3371), ('calcium chloride 0.0014 MEQ/ML / potassium chloride 0.004 MEQ/ML / sodium chloride 0.103 MEQ/ML / sodium lactate 0.028 MEQ/ML Injectable Solution', 2659), ('heparin sodium, porcine 5000 UNT/ML Injectable Solution', 2218), ('ampicillin 500 MG Injection', 2070), ('100 ML sodium chloride 9 MG/ML Injection', 2033), ('1000 ML sodium chloride 4.5 MG/ML Injection', 1835), ('250 ML glucose 50 MG/ML Injection', 1674), ('Fentanyl 0.05 MG/ML Injectable Solution', 1112), ('Propofol 10 MG/ML Injectable Suspension [Diprivan]', 1102)]\n",
      "\t- label:\n",
      "\t\t- Number of label per sample: 1.0000\n",
      "\t\t- Number of unique label: 2\n",
      "\t\t- Distribution of label (Top-10): [(0, 30568), (1, 4121)]\n"
     ]
    },
    {
     "data": {
      "text/plain": [
       "\"Statistics of sample dataset:\\n\\t- Dataset: MIMIC3Dataset\\n\\t- Task: mortality_prediction_last_visit\\n\\t- Number of samples: 34689\\n\\t- Number of patients: 34689\\n\\t- Number of visits: 34689\\n\\t- Number of visits per patient: 1.0000\\n\\t- conditions:\\n\\t\\t- Number of conditions per sample: 4.8516\\n\\t\\t- Number of unique conditions: 4654\\n\\t\\t- Distribution of conditions (Top-10): [('Coronary atherosclerosis of native coronary artery', 4954), ('Acute respiratory failure', 4199), ('Unspecified essential hypertension', 4147), ('Acute kidney failure, unspecified', 3808), ('Atrial fibrillation', 3759), ('Congestive heart failure, unspecified', 3340), ('Urinary tract infection, site not specified', 2314), ('Pneumonia, organism unspecified', 2205), ('Acute posthemorrhagic anemia', 2077), ('Unspecified septicemia', 1978)]\\n\\t- procedures:\\n\\t\\t- Number of procedures per sample: 3.4543\\n\\t\\t- Number of unique procedures: 1780\\n\\t\\t- Distribution of procedures (Top-10): [('Venous catheterization, not elsewhere classified', 5719), ('Insertion of endotracheal tube', 5397), ('Continuous invasive mechanical ventilation for less than 96 consecutive hours', 5375), ('Extracorporeal circulation auxiliary to open heart surgery', 4845), ('Enteral infusion of concentrated nutritional substances', 3838), ('Single internal mammary-coronary artery bypass', 3443), ('Continuous invasive mechanical ventilation for 96 consecutive hours or more', 2878), ('Transfusion of packed cells', 2815), ('Coronary arteriography using two catheters', 2453), ('Prophylactic administration of vaccine against other diseases', 2116)]\\n\\t- drugs:\\n\\t\\t- Number of drugs per sample: 2.9882\\n\\t\\t- Number of unique drugs: 2029\\n\\t\\t- Distribution of drugs (Top-10): [('0', 13898), ('1000 ML sodium chloride 9 MG/ML Injection', 3371), ('calcium chloride 0.0014 MEQ/ML / potassium chloride 0.004 MEQ/ML / sodium chloride 0.103 MEQ/ML / sodium lactate 0.028 MEQ/ML Injectable Solution', 2659), ('heparin sodium, porcine 5000 UNT/ML Injectable Solution', 2218), ('ampicillin 500 MG Injection', 2070), ('100 ML sodium chloride 9 MG/ML Injection', 2033), ('1000 ML sodium chloride 4.5 MG/ML Injection', 1835), ('250 ML glucose 50 MG/ML Injection', 1674), ('Fentanyl 0.05 MG/ML Injectable Solution', 1112), ('Propofol 10 MG/ML Injectable Suspension [Diprivan]', 1102)]\\n\\t- label:\\n\\t\\t- Number of label per sample: 1.0000\\n\\t\\t- Number of unique label: 2\\n\\t\\t- Distribution of label (Top-10): [(0, 30568), (1, 4121)]\""
      ]
     },
     "execution_count": 11,
     "metadata": {},
     "output_type": "execute_result"
    }
   ],
   "source": [
    "# check the dataset\n",
    "mor_dataset.stat()"
   ]
  },
  {
   "cell_type": "code",
   "execution_count": 12,
   "metadata": {},
   "outputs": [
    {
     "data": {
      "text/plain": [
       "{'visit_id': '143040',\n",
       " 'patient_id': '1000',\n",
       " 'conditions': ['Amyloidosis',\n",
       "  'Streptococcal septicemia',\n",
       "  'Other shock without mention of trauma',\n",
       "  'Hemorrhage of gastrointestinal tract, unspecified',\n",
       "  'Multiple myeloma, without mention of having achieved remission'],\n",
       " 'procedures': ['Temporary tracheostomy',\n",
       "  'Injection or infusion of oxazolidinone class of antibiotics',\n",
       "  'Hemodialysis',\n",
       "  'Parenteral infusion of concentrated nutritional substances',\n",
       "  'Continuous invasive mechanical ventilation for 96 consecutive hours or more'],\n",
       " 'drugs': ['Famotidine 0.4 MG/ML Injectable Solution [Pepcid]',\n",
       "  'Sodium Chloride 0.154 MEQ/ML Injectable Solution',\n",
       "  '0'],\n",
       " 'label': 1}"
      ]
     },
     "execution_count": 12,
     "metadata": {},
     "output_type": "execute_result"
    }
   ],
   "source": [
    "mor_dataset.samples[1]"
   ]
  },
  {
   "cell_type": "code",
   "execution_count": 13,
   "metadata": {},
   "outputs": [
    {
     "data": {
      "text/html": [
       "<div>\n",
       "<style scoped>\n",
       "    .dataframe tbody tr th:only-of-type {\n",
       "        vertical-align: middle;\n",
       "    }\n",
       "\n",
       "    .dataframe tbody tr th {\n",
       "        vertical-align: top;\n",
       "    }\n",
       "\n",
       "    .dataframe thead th {\n",
       "        text-align: right;\n",
       "    }\n",
       "</style>\n",
       "<table border=\"1\" class=\"dataframe\">\n",
       "  <thead>\n",
       "    <tr style=\"text-align: right;\">\n",
       "      <th></th>\n",
       "      <th>visit_id</th>\n",
       "      <th>patient_id</th>\n",
       "      <th>conditions</th>\n",
       "      <th>procedures</th>\n",
       "      <th>drugs</th>\n",
       "      <th>label</th>\n",
       "    </tr>\n",
       "  </thead>\n",
       "  <tbody>\n",
       "    <tr>\n",
       "      <th>0</th>\n",
       "      <td>184167</td>\n",
       "      <td>10</td>\n",
       "      <td>[Single liveborn, born in hospital, delivered ...</td>\n",
       "      <td>[Other phototherapy, Parenteral infusion of co...</td>\n",
       "      <td>[ampicillin 500 MG Injection, 0, Gentamicin Su...</td>\n",
       "      <td>0</td>\n",
       "    </tr>\n",
       "    <tr>\n",
       "      <th>1</th>\n",
       "      <td>143040</td>\n",
       "      <td>1000</td>\n",
       "      <td>[Amyloidosis, Streptococcal septicemia, Other ...</td>\n",
       "      <td>[Temporary tracheostomy, Injection or infusion...</td>\n",
       "      <td>[Famotidine 0.4 MG/ML Injectable Solution [Pep...</td>\n",
       "      <td>1</td>\n",
       "    </tr>\n",
       "    <tr>\n",
       "      <th>2</th>\n",
       "      <td>187813</td>\n",
       "      <td>10000</td>\n",
       "      <td>[Acute and subacute necrosis of liver, Alcohol...</td>\n",
       "      <td>[Control of hemorrhage, not otherwise specifie...</td>\n",
       "      <td>[nadolol 20 MG Oral Tablet, 50 ML sodium chlor...</td>\n",
       "      <td>0</td>\n",
       "    </tr>\n",
       "    <tr>\n",
       "      <th>3</th>\n",
       "      <td>144039</td>\n",
       "      <td>10003</td>\n",
       "      <td>[Traumatic hemothorax without mention of open ...</td>\n",
       "      <td>[Other operations on lung, Other incision of p...</td>\n",
       "      <td>[heparin sodium, porcine 5000 UNT/ML Injectabl...</td>\n",
       "      <td>0</td>\n",
       "    </tr>\n",
       "    <tr>\n",
       "      <th>4</th>\n",
       "      <td>164713</td>\n",
       "      <td>10004</td>\n",
       "      <td>[Other closed skull fracture with subarachnoid...</td>\n",
       "      <td>[Temporary tracheostomy, Percutaneous [endosco...</td>\n",
       "      <td>[sodium polystyrene sulfonate 250 MG/ML Oral S...</td>\n",
       "      <td>0</td>\n",
       "    </tr>\n",
       "  </tbody>\n",
       "</table>\n",
       "</div>"
      ],
      "text/plain": [
       "  visit_id patient_id                                         conditions  \\\n",
       "0   184167         10  [Single liveborn, born in hospital, delivered ...   \n",
       "1   143040       1000  [Amyloidosis, Streptococcal septicemia, Other ...   \n",
       "2   187813      10000  [Acute and subacute necrosis of liver, Alcohol...   \n",
       "3   144039      10003  [Traumatic hemothorax without mention of open ...   \n",
       "4   164713      10004  [Other closed skull fracture with subarachnoid...   \n",
       "\n",
       "                                          procedures  \\\n",
       "0  [Other phototherapy, Parenteral infusion of co...   \n",
       "1  [Temporary tracheostomy, Injection or infusion...   \n",
       "2  [Control of hemorrhage, not otherwise specifie...   \n",
       "3  [Other operations on lung, Other incision of p...   \n",
       "4  [Temporary tracheostomy, Percutaneous [endosco...   \n",
       "\n",
       "                                               drugs  label  \n",
       "0  [ampicillin 500 MG Injection, 0, Gentamicin Su...      0  \n",
       "1  [Famotidine 0.4 MG/ML Injectable Solution [Pep...      1  \n",
       "2  [nadolol 20 MG Oral Tablet, 50 ML sodium chlor...      0  \n",
       "3  [heparin sodium, porcine 5000 UNT/ML Injectabl...      0  \n",
       "4  [sodium polystyrene sulfonate 250 MG/ML Oral S...      0  "
      ]
     },
     "execution_count": 13,
     "metadata": {},
     "output_type": "execute_result"
    }
   ],
   "source": [
    "# view the mor_dataset in a pandas dataframe\n",
    "df = pd.DataFrame(mor_dataset.samples)\n",
    "\n",
    "df.head()"
   ]
  },
  {
   "cell_type": "code",
   "execution_count": 14,
   "metadata": {},
   "outputs": [
    {
     "data": {
      "text/plain": [
       "(34689, 6)"
      ]
     },
     "execution_count": 14,
     "metadata": {},
     "output_type": "execute_result"
    }
   ],
   "source": [
    "df.shape"
   ]
  },
  {
   "cell_type": "markdown",
   "metadata": {},
   "source": [
    "# Test loaders"
   ]
  },
  {
   "cell_type": "code",
   "execution_count": 15,
   "metadata": {},
   "outputs": [],
   "source": [
    "from pyhealth.datasets.splitter import split_by_patient\n",
    "from pyhealth.datasets import split_by_patient, get_dataloader\n",
    "\n",
    "# data split\n",
    "train_dataset, val_dataset, test_dataset = split_by_patient(mor_dataset, [0.8, 0.1, 0.1])\n",
    "\n",
    "# create dataloaders (they are <torch.data.DataLoader> object)\n",
    "train_loader = get_dataloader(train_dataset, batch_size=64, shuffle=True)\n",
    "val_loader = get_dataloader(val_dataset, batch_size=64, shuffle=False)\n",
    "test_loader = get_dataloader(test_dataset, batch_size=64, shuffle=False)"
   ]
  },
  {
   "cell_type": "code",
   "execution_count": 16,
   "metadata": {},
   "outputs": [
    {
     "name": "stdout",
     "output_type": "stream",
     "text": [
      "<class 'dict'>\n",
      "dict_keys(['visit_id', 'patient_id', 'conditions', 'procedures', 'drugs', 'label'])\n",
      "{'visit_id': ['185120', '113343', '102247', '158758', '121174', '124569', '112213', '195740', '169986', '148080', '129062', '179954', '144018', '189989', '160511', '194472', '197920', '144976', '103355', '194263', '143960', '158958', '116831', '195209', '126651', '156788', '145895', '177367', '130974', '187711', '129697', '163820', '103815', '157854', '156010', '122085', '133195', '197410', '132861', '193425', '121375', '145471', '179921', '168667', '164191', '130979', '164862', '154228', '199947', '151458', '165560', '140251', '160422', '149327', '124342', '130239', '123607', '100826', '138749', '126674', '131944', '189110', '132115', '119989'], 'patient_id': ['7777', '63264', '59101', '14312', '14969', '51082', '12', '96892', '60936', '79178', '16166', '74038', '29252', '30149', '7111', '4017', '28551', '9312', '82051', '88882', '31804', '1539', '6016', '15106', '31262', '24664', '27970', '11763', '8196', '25428', '9467', '43613', '99938', '19731', '4795', '9170', '28079', '14093', '87887', '2828', '15247', '2790', '6217', '29919', '1495', '90173', '61877', '84964', '9057', '16063', '7218', '17877', '23725', '13210', '28665', '73970', '11894', '8586', '1785', '7122', '6200', '15250', '44538', '81551'], 'conditions': [['Twin birth, mate liveborn, born in hospital, delivered by cesarean section', 'Other preterm infants, 2,500 grams and over', 'Neonatal jaundice associated with preterm delivery', '33-34 completed weeks of gestation', 'Need for prophylactic vaccination and inoculation against viral hepatitis'], ['Thoracic aneurysm without mention of rupture', 'Pulmonary insufficiency following trauma and surgery', 'Aortic valve disorders', 'Unilateral paralysis of vocal cords or larynx, partial', 'Other specified cystic kidney disease'], ['Unspecified septicemia', 'Acute respiratory failure', 'Malignant neoplasm of bronchus and lung, unspecified', 'Defibrination syndrome', 'Tumor lysis syndrome'], ['Subendocardial infarction, initial episode of care', 'Retention of urine, unspecified', 'Complications of transplanted kidney', 'Coronary atherosclerosis of native coronary artery', 'Anemia, unspecified'], ['Twin birth, mate liveborn, born in hospital, delivered by cesarean section', 'Other preterm infants, 2,000-2,499 grams', 'Disorder of stomach function and feeding problems in newborn', '35-36 completed weeks of gestation', 'Other hypothermia of newborn'], ['Closed fracture of shaft of femur', 'Subendocardial infarction, initial episode of care', 'Encephalopathy, unspecified', 'Hemorrhage complicating a procedure', 'Unspecified pleural effusion'], ['Malignant neoplasm of head of pancreas', 'Calculus of gallbladder with other cholecystitis, without mention of obstruction', 'Cardiac complications, not elsewhere classified', 'Cardiac arrest', 'Hemorrhage complicating a procedure'], ['Closed fracture of base of skull with other and unspecified intracranial hemorrhage, with prolonged [more than 24 hours] loss of consciousness, without return to pre-existing conscious level', 'Compression of brain', 'Closed fracture of T7-T12 level with unspecified spinal cord injury', 'Closed fracture of three ribs', 'Accidental fall from or out of building or other structure'], ['Intracerebral hemorrhage', 'End stage renal disease', 'Hypertensive chronic kidney disease, unspecified, with chronic kidney disease stage V or end stage renal disease', 'Hemiplegia, unspecified, affecting unspecified side', 'Renal dialysis status'], ['Methicillin resistant pneumonia due to Staphylococcus aureus', 'Empyema without mention of fistula', 'Acute and chronic respiratory failure', 'Bacteremia', 'Late effects of cerebrovascular disease, hemiplegia affecting dominant side'], ['Coronary atherosclerosis of native coronary artery', 'Congestive heart failure, unspecified', 'Subendocardial infarction, subsequent episode of care', 'Diabetes mellitus without mention of complication, type II or unspecified type, not stated as uncontrolled', 'Unspecified essential hypertension'], ['Coronary atherosclerosis of native coronary artery', 'Diverticulitis of colon (without mention of hemorrhage)', 'Intermediate coronary syndrome', 'Unspecified essential hypertension', 'Other and unspecified hyperlipidemia'], ['Mitral valve disorders', 'Tricuspid valve disorders, specified as nonrheumatic', 'Congestive heart failure, unspecified', 'Primary pulmonary hypertension', 'Acute apical periodontitis of pulpal origin'], ['Mitral valve insufficiency and aortic valve stenosis', 'Hematoma complicating a procedure', 'Pulmonary collapse', 'Peripheral vascular complications, not elsewhere classified', 'Esophageal reflux'], ['Primary apnea of newborn', 'Other preterm infants, 1,750-1,999 grams', 'Neonatal hypoglycemia', 'Neonatal jaundice associated with preterm delivery', 'Disorder of stomach function and feeding problems in newborn'], ['Traumatic pneumothorax without mention of open wound into thorax', 'Anoxic brain damage', 'Cardiac arrest', 'Acute respiratory failure', 'Methicillin susceptible pneumonia due to Staphylococcus aureus'], ['Localization-related (focal) (partial) epilepsy and epileptic syndromes with simple partial seizures, with intractable epilepsy', 'Unspecified transient mental disorder in conditions classified elsewhere', 'Bipolar disorder, unspecified', 'Unspecified acquired hypothyroidism', 'Attention deficit disorder with hyperactivity'], ['Closed fracture of orbital floor (blow-out)', 'Defibrination syndrome', 'Intracerebral hemorrhage', 'Acute myocardial infarction of unspecified site, initial episode of care', 'Hemorrhage complicating a procedure'], ['Secondary malignant neoplasm of brain and spinal cord', 'Cerebral edema', 'Grand mal status', 'Secondary malignant neoplasm of lung', 'Personal history of malignant melanoma of skin'], ['Disruption of internal operation (surgical) wound', 'Pulmonary insufficiency following trauma and surgery', 'Iatrogenic pneumothorax', 'Atrial fibrillation', 'Unspecified sleep apnea'], ['Twin birth, mate liveborn, born in hospital, delivered by cesarean section', 'Other preterm infants, 1,500-1,749 grams', '33-34 completed weeks of gestation', 'Routine or ritual circumcision'], ['Malignant neoplasm of sigmoid colon', 'Atherosclerosis of autologous vein bypass graft of the extremities', 'Peritoneal adhesions (postoperative) (postinfection)', 'Secondary and unspecified malignant neoplasm of intra-abdominal lymph nodes', 'Congestive heart failure, unspecified'], ['Acute on chronic systolic heart failure', 'Acute respiratory failure', 'Autoimmune hemolytic anemias', 'Mitral valve disorders', 'Primary thrombocytopenia'], ['Coronary atherosclerosis of native coronary artery', 'Iatrogenic cerebrovascular infarction or hemorrhage', 'Cardiac complications, not elsewhere classified', 'Atrial flutter', 'Congestive heart failure, unspecified'], ['Pneumonia, organism unspecified', 'Acute and chronic respiratory failure', 'Apnea', 'Dysphagia, unspecified', 'Malignant neoplasm of larynx, unspecified'], ['Infection and inflammatory reaction due to other internal orthopedic device, implant, and graft', 'Unspecified septicemia', 'Severe sepsis', 'Septic shock', 'Diabetes with neurological manifestations, type II or unspecified type, uncontrolled'], ['Atherosclerosis of native arteries of the extremities with gangrene', 'Acute osteomyelitis, ankle and foot', 'Systolic heart failure, unspecified', 'Congestive heart failure, unspecified', 'Aortic valve disorders'], ['Mitral valve insufficiency and aortic valve insufficiency', 'Cardiac complications, not elsewhere classified', 'Rheumatic heart failure (congestive)', 'Paralysis agitans', 'Unspecified essential hypertension'], ['Acute diastolic heart failure', 'Cerebral embolism with cerebral infarction', 'Subendocardial infarction, initial episode of care', 'Hypertensive chronic kidney disease, unspecified, with chronic kidney disease stage V or end stage renal disease', 'Acute respiratory failure'], ['Congestive heart failure, unspecified', 'Acute myocardial infarction of unspecified site, initial episode of care', 'Iatrogenic cerebrovascular infarction or hemorrhage', 'Aortic valve disorders', 'Pneumonia, organism unspecified'], ['Subendocardial infarction, initial episode of care', 'Digestive system complications', 'Acute vascular insufficiency of intestine', 'Mitral valve disorders', 'Diseases of tricuspid valve'], ['Septicemia due to gram-negative organism, unspecified', 'Septic shock', 'Chronic hepatitis C with hepatic coma', 'Spontaneous bacterial peritonitis', 'Pneumonitis due to inhalation of food or vomitus'], ['Acute combined systolic and diastolic heart failure', 'Hyposmolality and/or hyponatremia', 'Mitral valve disorders', 'Coronary atherosclerosis of native coronary artery', 'Congestive heart failure, unspecified'], ['Methicillin susceptible Staphylococcus aureus septicemia', 'Methicillin susceptible pneumonia due to Staphylococcus aureus', 'Other convulsions', 'Acute kidney failure, unspecified', 'Other pulmonary insufficiency, not elsewhere classified'], ['Coronary atherosclerosis of native coronary artery', 'Intermediate coronary syndrome', 'Primary pulmonary hypertension', 'Cardiac complications, not elsewhere classified', 'Atrial fibrillation'], ['Hematoma complicating a procedure', 'Paralytic ileus', 'Removal of other organ (partial) (total) causing abnormal patient reaction, or later complication, without mention of misadventure at time of operation', 'Personal history of malignant neoplasm of kidney', 'Gout, unspecified'], ['Coronary atherosclerosis of native coronary artery', 'Acute posthemorrhagic anemia', 'Esophageal reflux', 'Pure hypercholesterolemia', 'Chronic kidney disease, unspecified'], ['Streptococcal septicemia', 'Septic shock', 'Cholangitis', 'Acute kidney failure with lesion of tubular necrosis', 'Acute and subacute bacterial endocarditis'], ['Coronary atherosclerosis of native coronary artery', 'Cardiac complications, not elsewhere classified', 'Chronic total occlusion of coronary artery', 'Atrial fibrillation', 'Other and unspecified hyperlipidemia'], ['Pathologic fracture of neck of femur', 'Secondary malignant neoplasm of bone and bone marrow', 'Secondary malignant neoplasm of brain and spinal cord', 'Hemorrhage complicating a procedure', 'Drug-induced delirium'], ['Acute myocardial infarction of other inferior wall, initial episode of care', 'Combined systolic and diastolic heart failure, unspecified', 'Congestive heart failure, unspecified', 'Mitral valve disorders', 'Other pulmonary insufficiency, not elsewhere classified'], ['Coronary atherosclerosis of native coronary artery', 'Other complications due to other cardiac device, implant, and graft', 'Subendocardial infarction, initial episode of care', 'Accidental puncture or laceration during a procedure, not elsewhere classified', 'Pulmonary collapse'], ['Malignant neoplasm of corpus uteri, except isthmus', 'Pulmonary insufficiency following trauma and surgery', 'Digestive system complications', 'Secondary malignant neoplasm of large intestine and rectum', 'Secondary and unspecified malignant neoplasm of intrapelvic lymph nodes'], ['Constrictive pericarditis', 'Acute kidney failure, unspecified', 'Unspecified pleural effusion', 'Diastolic heart failure, unspecified', 'Atrial flutter'], ['Twin birth, mate liveborn, born in hospital, delivered by cesarean section', 'Other preterm infants, 1,000-1,249 grams', 'Respiratory distress syndrome in newborn', 'Septicemia [sepsis] of newborn', 'Neonatal jaundice associated with preterm delivery'], ['Coronary atherosclerosis of native coronary artery', 'Need for desensitization to allergens', 'Diabetes mellitus without mention of complication, type II or unspecified type, not stated as uncontrolled', 'Anemia, unspecified', 'Other and unspecified hyperlipidemia'], ['Intracerebral hemorrhage', 'Cerebral edema', 'Ventilator associated pneumonia', 'Obstructive hydrocephalus', 'Other complications due to nervous system device, implant, and graft'], ['Closed fracture of C1-C4 level with other specified spinal cord injury', 'Dissection of vertebral artery', 'Pulmonary insufficiency following trauma and surgery', 'Pneumonitis due to inhalation of food or vomitus', 'Acidosis'], ['Coronary atherosclerosis of native coronary artery', 'Subendocardial infarction, initial episode of care', 'Other and unspecified angina pectoris', 'Hematoma complicating a procedure', 'Calculus of bile duct without mention of cholecystitis, with obstruction'], ['Unspecified gastritis and gastroduodenitis, with hemorrhage', 'Cirrhosis of liver without mention of alcohol', 'Chronic hepatitis C without mention of hepatic coma', 'Human immunodeficiency virus [HIV] disease', 'Coronary atherosclerosis of native coronary artery'], ['Single liveborn, born in hospital, delivered without mention of cesarean section', 'Neonatal hypoglycemia', 'Other disturbances of temperature regulation of newborn', 'Observation for suspected infectious condition'], ['Single liveborn, born in hospital, delivered without mention of cesarean section', 'Routine or ritual circumcision', 'Need for prophylactic vaccination and inoculation against viral hepatitis', 'Observation for suspected infectious condition'], ['Infection and inflammatory reaction due to other internal prosthetic device, implant, and graft', 'Intracranial abscess', 'Other convulsions', 'Unspecified osteomyelitis, other specified sites', 'Pain in joint, shoulder region'], ['Coarctation of aorta (preductal) (postductal)', 'Unspecified essential hypertension', 'Anomalies of aortic arch'], ['Rheumatic mitral insufficiency', 'Acute respiratory failure', 'Acute on chronic systolic heart failure', 'Other primary cardiomyopathies', 'Atrial fibrillation'], ['Other specified intestinal obstruction', 'Hemorrhage complicating a procedure', 'Cachexia', 'Body Mass Index less than 19, adult', 'Chronic lymphocytic thyroiditis'], ['Twin birth, mate liveborn, born in hospital, delivered by cesarean section', 'Other preterm infants, 2,500 grams and over', 'Neonatal jaundice associated with preterm delivery', '35-36 completed weeks of gestation', 'Other respiratory problems after birth'], ['Ventricular septal defect', 'Ostium secundum type atrial septal defect', 'Other chronic pulmonary heart diseases', 'Partial anomalous pulmonary venous connection', 'Other pulmonary embolism and infarction'], ['Aortic valve disorders', 'Pulmonary insufficiency following trauma and surgery', 'Methicillin susceptible pneumonia due to Staphylococcus aureus', 'Cardiogenic shock', 'Acute and subacute necrosis of liver'], ['Single liveborn, born in hospital, delivered without mention of cesarean section', 'Other respiratory problems after birth', '\"Light-for-dates\" without mention of fetal malnutrition, 2,000- 2,499 grams', 'Observation for suspected infectious condition', 'Observation for suspected genetic or metabolic condition'], ['Pneumonitis due to inhalation of food or vomitus', 'Volume depletion', 'Corticoadrenal insufficiency', 'Secondary and unspecified malignant neoplasm of intra-abdominal lymph nodes', 'Malignant neoplasm of liver, secondary'], ['Septicemia due to anaerobes', 'Acute respiratory failure', 'Septic shock', 'Congestive heart failure, unspecified', 'Acute vascular insufficiency of intestine'], ['Subendocardial infarction, initial episode of care', 'Cardiac complications, not elsewhere classified', 'Other complications due to other cardiac device, implant, and graft', 'Coronary atherosclerosis of native coronary artery', 'Atrial fibrillation'], ['Other nervous system complications', 'Other pulmonary embolism and infarction', 'Acute kidney failure, unspecified', 'Chronic airway obstruction, not elsewhere classified', 'Orthostatic hypotension']], 'procedures': [['Circumcision', 'Prophylactic administration of vaccine against other diseases', 'Other phototherapy'], ['Open and other replacement of aortic valve with tissue graft', 'Resection of vessel with replacement, thoracic vessels', 'Extracorporeal circulation auxiliary to open heart surgery', 'Continuous invasive mechanical ventilation for less than 96 consecutive hours', 'Fiber-optic bronchoscopy'], ['Continuous invasive mechanical ventilation for less than 96 consecutive hours', 'Insertion of endotracheal tube', 'Arterial catheterization', 'Central venous catheter placement with guidance'], ['3601', 'Insertion of drug-eluting coronary artery stent(s)', 'Combined right and left heart cardiac catheterization', 'Coronary arteriography using two catheters', 'Injection or infusion of platelet inhibitor'], ['Prophylactic administration of vaccine against other diseases'], ['Closed reduction of fracture with internal fixation, femur', 'Reopening of recent thoracotomy site', '(Aorto)coronary bypass of two coronary arteries', 'Single internal mammary-coronary artery bypass', 'Excision, destruction, or exclusion of left atrial appendage (LAA)'], ['Anastomosis of hepatic duct to gastrointestinal tract', 'Open biopsy of pancreas', 'Other lysis of peritoneal adhesions', 'Incisional hernia repair', 'Parenteral infusion of concentrated nutritional substances'], ['Insertion of endotracheal tube', 'Continuous invasive mechanical ventilation for less than 96 consecutive hours'], ['Hemodialysis'], ['Temporary tracheostomy', 'Closed [endoscopic] biopsy of bronchus', 'Thoracentesis', 'Percutaneous [endoscopic] gastrostomy [PEG]', 'Continuous invasive mechanical ventilation for 96 consecutive hours or more'], ['Left heart cardiac catheterization', 'Coronary arteriography using two catheters', 'Angiocardiography of left heart structures'], ['(Aorto)coronary bypass of three coronary arteries', 'Single internal mammary-coronary artery bypass', 'Extracorporeal circulation auxiliary to open heart surgery'], ['Annuloplasty', 'Extracorporeal circulation auxiliary to open heart surgery', 'Transfusion of packed cells', 'Transfusion of other serum', 'Other surgical extraction of tooth'], ['Open and other replacement of aortic valve with tissue graft', 'Combined right and left heart cardiac catheterization', 'Suture of artery', 'Angiocardiography of left heart structures', 'Aortography'], ['Other phototherapy', 'Enteral infusion of concentrated nutritional substances'], ['Temporary tracheostomy', 'Other diagnostic procedures on brain and cerebral meninges', 'Percutaneous [endoscopic] gastrostomy [PEG]', 'Other endoscopy of small intestine', 'Insertion of intercostal catheter for drainage'], ['Other excision or destruction of lesion or tissue of brain'], ['Linear repair of laceration of eyelid or eyebrow', 'Ventriculostomy', 'Insertion of endotracheal tube', 'Continuous invasive mechanical ventilation for less than 96 consecutive hours', 'Closure of skin and subcutaneous tissue of other sites'], ['Continuous invasive mechanical ventilation for less than 96 consecutive hours', 'Arterial catheterization'], ['Local excision of lesion or tissue of bone, scapula, clavicle, and thorax [ribs and sternum]', 'Other repair or plastic operations on bone, scapula, clavicle, and thorax [ribs and sternum]', 'Graft of muscle or fascia', 'Continuous invasive mechanical ventilation for less than 96 consecutive hours'], ['Circumcision'], ['Open and other left hemicolectomy', 'Large-to-large intestinal anastomosis', 'Other lysis of peritoneal adhesions', 'Other removal of both ovaries and tubes at same operative episode', 'Other revision of vascular procedure'], ['Infusion of vasopressor agent', 'Non-invasive mechanical ventilation'], ['Single internal mammary-coronary artery bypass', 'Left heart cardiac catheterization', '(Aorto)coronary bypass of four or more coronary arteries', 'Implant of pulsation balloon', 'Extracorporeal circulation auxiliary to open heart surgery'], ['Venous catheterization, not elsewhere classified'], ['Other amputation below knee', 'Revision of amputation stump', 'Venous catheterization, not elsewhere classified', 'Transfusion of packed cells', 'Transfusion of other serum'], ['Other (peripheral) vascular shunt or bypass', 'Amputation of toe', 'Excisional debridement of wound, infection, or burn', 'Arteriography of femoral and other lower extremity arteries', 'Venous catheterization, not elsewhere classified'], ['Open and other replacement of aortic valve', 'Annuloplasty', 'Extracorporeal circulation auxiliary to open heart surgery', 'Insertion of temporary transvenous pacemaker system', 'Atrial cardioversion'], ['Percutaneous [endoscopic] gastrojejunostomy', 'Enteral infusion of concentrated nutritional substances', 'Insertion of endotracheal tube', 'Continuous invasive mechanical ventilation for less than 96 consecutive hours', 'Continuous invasive mechanical ventilation for 96 consecutive hours or more'], ['Temporary tracheostomy', 'Percutaneous [endoscopic] gastrostomy [PEG]', 'Left heart cardiac catheterization', 'Angiocardiography of left heart structures', 'Coronary arteriography using a single catheter'], ['Open heart valvuloplasty of mitral valve without replacement', 'Combined right and left heart cardiac catheterization', 'Single internal mammary-coronary artery bypass', '(Aorto)coronary bypass of one coronary artery', 'Laparoscopy'], ['Continuous invasive mechanical ventilation for less than 96 consecutive hours', 'Insertion of endotracheal tube', 'Venous catheterization, not elsewhere classified', 'Percutaneous abdominal drainage'], ['Open and other replacement of mitral valve with tissue graft', 'Combined right and left heart cardiac catheterization', '(Aorto)coronary bypass of three coronary arteries', 'Single internal mammary-coronary artery bypass', 'Extracorporeal circulation auxiliary to open heart surgery'], ['Enteral infusion of concentrated nutritional substances', 'Continuous invasive mechanical ventilation for 96 consecutive hours or more', 'Transfusion of packed cells', 'Diagnostic ultrasound of heart', 'Spinal tap'], ['(Aorto)coronary bypass of two coronary arteries', 'Atrial cardioversion', 'Administration of inhaled nitric oxide'], ['Transfusion of packed cells'], ['(Aorto)coronary bypass of three coronary arteries', 'Single internal mammary-coronary artery bypass', 'Extracorporeal circulation auxiliary to open heart surgery', 'Transfusion of packed cells'], ['Endoscopic insertion of stent (tube) into bile duct', 'Venous catheterization, not elsewhere classified'], ['(Aorto)coronary bypass of two coronary arteries', 'Single internal mammary-coronary artery bypass', 'Extracorporeal circulation auxiliary to open heart surgery'], ['Open reduction of fracture with internal fixation, femur', 'Control of hemorrhage, not otherwise specified', 'Transfusion of packed cells'], ['Combined right and left heart cardiac catheterization', 'Coronary arteriography using two catheters'], ['Implant of pulsation balloon', 'Left heart cardiac catheterization', 'Coronary arteriography using two catheters', 'Insertion of temporary transvenous pacemaker system', '3601'], ['Total abdominal hysterectomy', 'Regional lymph node excision', 'Open and other sigmoidectomy', 'Suture of vein', 'Exteriorization of large intestine'], ['Pericardiotomy', 'Pericardiectomy', 'Combined right and left heart cardiac catheterization', 'Coronary arteriography using two catheters'], ['Insertion of endotracheal tube', 'Continuous invasive mechanical ventilation for less than 96 consecutive hours', 'Non-invasive mechanical ventilation', 'Arterial catheterization', 'Enteral infusion of concentrated nutritional substances'], ['Percutaneous transluminal coronary angioplasty [PTCA]', 'Insertion of drug-eluting coronary artery stent(s)', 'Insertion of one vascular stent', 'Procedure on single vessel'], ['Ventricular shunt to extracranial site NEC', 'Temporary tracheostomy', 'Other diagnostic procedures on lung or bronchus', 'Continuous invasive mechanical ventilation for 96 consecutive hours or more', 'Injection or infusion of thrombolytic agent'], ['Repair of vertebral fracture', 'Other cervical fusion of the posterior column, posterior technique', 'Excision of bone for graft, other bones', 'Fusion or refusion of 2-3 vertebrae', 'Enteral infusion of concentrated nutritional substances'], ['Single internal mammary-coronary artery bypass', '(Aorto)coronary bypass of two coronary arteries', 'Extracorporeal circulation auxiliary to open heart surgery', 'Diagnostic ultrasound of heart', 'Transfusion of packed cells'], ['Other endoscopy of small intestine'], ['Parenteral infusion of concentrated nutritional substances'], ['Circumcision', 'Prophylactic administration of vaccine against other diseases'], ['Other excision or destruction of lesion or tissue of brain', 'Lysis of cortical adhesions', 'Venous catheterization, not elsewhere classified'], ['Resection of vessel with replacement, aorta, abdominal'], ['Open and other replacement of mitral valve', 'Left heart cardiac catheterization', 'Excision or destruction of other lesion or tissue of heart, open approach', 'Extracorporeal circulation auxiliary to open heart surgery', 'Coronary arteriography using two catheters'], ['Laparoscopic sigmoidectomy', 'Exploratory laparotomy', 'Other proctopexy', 'Other operations on supporting structures of uterus', 'Other operations on cul-de-sac'], ['Circumcision', 'Non-invasive mechanical ventilation', 'Prophylactic administration of vaccine against other diseases'], ['Combined right and left heart cardiac catheterization', 'Phlebography of pulmonary veins using contrast material', 'Administration of inhaled nitric oxide'], ['Open and other replacement of aortic valve with tissue graft', 'Temporary tracheostomy', '(Aorto)coronary bypass of one coronary artery', 'Combined right and left heart cardiac catheterization', 'Insertion of endotracheal tube'], ['Prophylactic administration of vaccine against other diseases'], ['Enteral infusion of concentrated nutritional substances'], ['Insertion of endotracheal tube', 'Other electric countershock of heart', 'Venous catheterization, not elsewhere classified'], ['(Aorto)coronary bypass of four or more coronary arteries', 'Single internal mammary-coronary artery bypass', 'Extracorporeal circulation auxiliary to open heart surgery'], ['Other exploration and decompression of spinal canal']], 'drugs': [['Hepatitis B Surface Antigen Vaccine 0.01 MG/ML Injectable Suspension [Recombivax HB]', '0.5 ML hepatitis B immune globulin 220 UNT/ML Prefilled Syringe [Hyperhep B]', '20 ML potassium chloride 2 MEQ/ML Injection'], ['250 ML nitroglycerin 0.4 MG/ML Injection', 'calcium chloride 0.0014 MEQ/ML / potassium chloride 0.004 MEQ/ML / sodium chloride 0.103 MEQ/ML / sodium lactate 0.028 MEQ/ML Injectable Solution', '0'], ['Fentanyl 0.05 MG/ML Injectable Solution', '50 ML sodium bicarbonate 84 MG/ML Injection', '1000 ML glucose 50 MG/ML Injection'], ['1000 ML sodium chloride 9 MG/ML Injection', '1000 ML sodium chloride 4.5 MG/ML Injection', 'mycophenolate mofetil 500 MG Oral Tablet [Cellcept]'], ['erythromycin 0.005 MG/MG Ophthalmic Ointment', 'vancomycin 500 MG Injection', '0'], ['1 ML vitamin K1 10 MG/ML Injection', '50 ML glucose 50 MG/ML Injection', '10 ML atropine sulfate 0.1 MG/ML Prefilled Syringe'], ['heparin sodium, porcine 5000 UNT/ML Injectable Solution', '0', 'Metronidazole 5 MG/ML Injectable Solution'], ['calcium chloride 0.0014 MEQ/ML / potassium chloride 0.004 MEQ/ML / sodium chloride 0.103 MEQ/ML / sodium lactate 0.028 MEQ/ML Injectable Solution', '0', '50 ML magnesium sulfate 40 MG/ML Injection'], ['1 ML hydralazine hydrochloride 20 MG/ML Injection', 'metoprolol tartrate 25 MG Oral Tablet', 'glucagon (rDNA) 1 MG Injection [GlucaGen]'], ['0', '200 ACTUAT ipratropium bromide 0.017 MG/ACTUAT Metered Dose Inhaler [Atrovent]', 'insulin glargine 100 UNT/ML Injectable Solution [Lantus]'], ['glipizide 5 MG Oral Tablet', 'Acetylcysteine 200 MG/ML Inhalant Solution [Mucomyst-20]', '1 ML promethazine hydrochloride 25 MG/ML Injection'], ['amoxicillin 500 MG / clavulanate 125 MG Oral Tablet', '24 HR metoprolol succinate 50 MG Extended Release Oral Tablet [Toprol]', 'simvastatin 40 MG Oral Tablet'], ['24 HR Nifedipine 60 MG Extended Release Oral Tablet [Adalat]', 'levothyroxine sodium 0.075 MG Oral Tablet [Synthroid]', '0'], ['250 ML sodium chloride 9 MG/ML Injection', '24 HR Potassium Chloride 20 MEQ Extended Release Tablet', '1 ML hydromorphone hydrochloride 2 MG/ML Cartridge'], ['1000 ML glucose 100 MG/ML Injection', '30 ML Sodium Chloride 234 MG/ML Injection', 'Potassium Chloride 2 MEQ/ML Injectable Solution'], ['50 ML glucose 50 MG/ML Injection', 'Phenylephrine Hydrochloride 10 MG/ML Injectable Solution [Neo-Synephrine]', 'Amiodarone hydrochloride 50 MG/ML Injectable Solution [Cordarone]'], ['dexamethasone 2 MG Oral Tablet', 'phenytoin sodium 100 MG Extended Release Oral Capsule', 'zonisamide 100 MG Oral Capsule'], ['Mannitol 200 MG/ML Injectable Solution', 'Propofol 10 MG/ML Injectable Suspension', '0'], ['100 ML propofol 10 MG/ML Injection [Diprivan]', 'Propofol 10 MG/ML Injectable Suspension [Diprivan]', '500 ML sodium chloride 9 MG/ML Injection'], ['AFLURIA INFLUENZA A VIRUS A/CALIFORNIA/7/2009 X-181 (H1N1) HEMAGGLUTININ ANTIGEN (PROPIOLACTONE INACTIVATED) intramuscular', '0', 'aspirin 81 MG Chewable Tablet'], ['MCT OIL', 'ferrous sulfate 125 MG/ML Oral Solution [Fer-Gen-Sol]', '1000 ML glucose 100 MG/ML Injection'], ['Bupivacaine Hydrochloride 5 MG/ML Injectable Solution [Sensorcaine]', 'Hydromorphone Hydrochloride 2 MG/ML Injectable Solution [Dilaudid]', '0'], ['0', 'clopidogrel 75 MG Oral Tablet [Plavix]', 'Digoxin 0.125 MG Oral Tablet [Lanoxin]'], ['atorvastatin 10 MG Oral Tablet [Lipitor]', 'atorvastatin 20 MG Oral Tablet [Lipitor]', '1 ML hydralazine hydrochloride 20 MG/ML Injection'], ['12 HR Oxycodone Hydrochloride 10 MG Extended Release Tablet [Oxycontin]', 'Docusate Sodium 100 MG Oral Capsule [DOK]', '1 ML hydromorphone hydrochloride 1 MG/ML Cartridge'], ['calcium chloride 0.0014 MEQ/ML / potassium chloride 0.004 MEQ/ML / sodium chloride 0.103 MEQ/ML / sodium lactate 0.028 MEQ/ML Injectable Solution', '100 ML sodium chloride 9 MG/ML Injection', '0'], ['1000 ML sodium chloride 9 MG/ML Injection', '1000 ML glucose 50 MG/ML Injection', 'Potassium Chloride 10 MEQ Extended Release Oral Capsule'], ['meperidine hydrochloride 10 MG/ML Oral Solution', 'Morphine Sulfate 2 MG/ML Injectable Solution', '100 ML sodium chloride 9 MG/ML Injection'], ['citric acid 60 MG/ML / sodium citrate 100 MG/ML Oral Solution', 'clopidogrel 75 MG Oral Tablet [Plavix]', 'Docusate Sodium 100 MG Oral Capsule'], ['Morphine Sulfate 8 MG/ML Injectable Solution', 'Ipratropium Bromide 0.2 MG/ML Inhalant Solution', 'Albuterol 0.83 MG/ML Inhalant Solution'], ['pantoprazole 40 MG Injection [Protonix]', '0', 'aspirin 325 MG Delayed Release Oral Tablet'], ['Fentanyl 0.05 MG/ML Injectable Solution', '200 ML vancomycin 5 MG/ML Injection', '0'], ['simvastatin 40 MG Oral Tablet', 'ramipril 5 MG Oral Capsule', 'Trazodone Hydrochloride 50 MG Oral Tablet'], ['Haloperidol 5 MG/ML Injectable Solution [Haldol]', 'aspirin 325 MG Delayed Release Oral Tablet', 'Vitamin K 1 10 MG/ML Injectable Solution'], ['24 HR Diltiazem Hydrochloride 240 MG Extended Release Oral Capsule [Tiazac]', 'Amylases 20000 UNT / Endopeptidases 25000 UNT / Lipase 4500 UNT Extended Release Capsule [Pancrease]', 'diphenhydramine hydrochloride 25 MG Oral Capsule'], ['Hydromorphone Hydrochloride 4 MG/ML Injectable Solution [Dilaudid]', '0', 'Acetaminophen 325 MG Oral Tablet'], ['1000 ML glucose 50 MG/ML Injection', '0', 'aspirin 325 MG Delayed Release Oral Tablet'], ['heparin sodium, porcine 5000 UNT/ML Injectable Solution', '500 ML sodium chloride 9 MG/ML Injection', 'Albuterol 0.83 MG/ML Inhalant Solution'], ['calcium chloride 0.0014 MEQ/ML / potassium chloride 0.004 MEQ/ML / sodium chloride 0.103 MEQ/ML / sodium lactate 0.028 MEQ/ML Injectable Solution', '100 ML sodium chloride 9 MG/ML Injection', 'Neostigmine 1 MG/ML Injectable Solution'], ['1000 ML sodium chloride 9 MG/ML Injection', 'lorazepam 0.5 MG Oral Tablet', 'Ibuprofen 600 MG Oral Tablet'], ['metoprolol tartrate 25 MG Oral Tablet', '4 ML norepinephrine 1 MG/ML Injection', '0'], ['Haloperidol 5 MG/ML Injectable Solution [Haldol]', 'carvedilol 3.125 MG Oral Tablet [Coreg]', '0'], ['calcium chloride 0.0014 MEQ/ML / potassium chloride 0.004 MEQ/ML / sodium chloride 0.103 MEQ/ML / sodium lactate 0.028 MEQ/ML Injectable Solution', 'Acetaminophen 325 MG Oral Tablet', 'Docusate Sodium 100 MG Oral Capsule'], ['0.5 ML Influenza Virus Vaccine, Inactivated A-Brisbane-10-2007 (H3N2)-like virus (A-Uruguay-716-2007 NYMC X-175C) strain 0.03 MG/ML / Influenza Virus Vaccine, Inactivated A-Brisbane-59-2007 (H1N1)-like virus (A-Brisbane-59-2007 IVR-148) strain 0.03 MG/ML', '1 ML vitamin K1 10 MG/ML Injection', 'purified protein derivative of tuberculin 50 UNT/ML Injectable Solution [Tubersol]'], ['ferrous sulfate 125 MG/ML Oral Solution [Fer-Gen-Sol]', 'Vitamin E 50 UNT/ML Oral Solution [Aquasol E]', 'caffeine citrate 20 MG/ML Oral Solution [Cafcit]'], ['aspirin 81 MG Chewable Tablet', 'metoprolol tartrate 25 MG Oral Tablet', 'insulin glargine 100 UNT/ML Injectable Solution [Lantus]'], ['labetalol hydrochloride 200 MG Oral Tablet', 'sennosides, USP 8.6 MG Oral Tablet', 'Docusate Sodium 100 MG Oral Capsule [DOK]'], ['1 ML hydromorphone hydrochloride 1 MG/ML Cartridge', 'calcium chloride 0.0014 MEQ/ML / potassium chloride 0.004 MEQ/ML / sodium chloride 0.103 MEQ/ML / sodium lactate 0.028 MEQ/ML Injectable Solution', 'famotidine 20 MG Oral Tablet'], ['1000 ML sodium chloride 9 MG/ML Injection', '0', '250 ML heparin sodium, porcine 100 UNT/ML Injection'], ['0', 'abacavir 300 MG Oral Tablet [Ziagen]', '00074729501'], ['Gentamicin Sulfate (USP) 10 MG/ML Injectable Solution', '0', 'ampicillin 500 MG Injection'], ['0', '2 ML gentamicin 10 MG/ML Injection', 'ampicillin 500 MG Injection'], ['1000 ML sodium chloride 9 MG/ML Injection', '50 ML sodium chloride 9 MG/ML Injection', 'Levetiracetam 500 MG Oral Tablet [Keppra]'], ['24 HR metoprolol succinate 25 MG Extended Release Oral Tablet [Toprol]', '0', 'Glucose 50 MG/ML Injectable Solution'], ['heparin sodium, porcine 5000 UNT/ML Injectable Solution', 'Propofol 10 MG/ML Injectable Suspension [Diprivan]', 'pantoprazole 40 MG Delayed Release Oral Tablet [Protonix]'], ['Phenazopyridine hydrochloride 100 MG Oral Tablet', '2 ML ondansetron 2 MG/ML Injection', 'Hydromorphone Hydrochloride 4 MG/ML Injectable Solution [Dilaudid]'], ['0', '2 ML gentamicin 10 MG/ML Injection', 'ampicillin 500 MG Injection'], ['warfarin sodium 2.5 MG Oral Tablet [Coumadin]', '0.6 ML enoxaparin sodium 100 MG/ML Prefilled Syringe [Lovenox]', 'Acetaminophen 325 MG Oral Tablet [Tylenol]'], ['Glyburide 5 MG Oral Tablet [Micronase]', '0', 'Prochlorperazine 10 MG Oral Tablet [Compazine]'], ['Gentamicin Sulfate (USP) 10 MG/ML Injectable Solution', '0', 'ampicillin 500 MG Injection'], ['heparin sodium, porcine 5000 UNT/ML Injectable Solution', 'gabapentin 100 MG Oral Capsule [Neurontin]', 'gabapentin 400 MG Oral Capsule [Neurontin]'], ['250 ML glucose 50 MG/ML Injection', '1 ML Phenylephrine Hydrochloride 10 MG/ML Injection', 'Amiodarone hydrochloride 50 MG/ML Injectable Solution [Cordarone]'], ['atorvastatin 80 MG Oral Tablet [Lipitor]', 'Nitroglycerin 0.3 MG Sublingual Tablet [Nitroquick]', 'Hydrochlorothiazide 12.5 MG Oral Capsule'], ['1 ML hydromorphone hydrochloride 1 MG/ML Cartridge', 'Hydromorphone Hydrochloride 2 MG Oral Tablet', '2 ML ondansetron 2 MG/ML Injection']], 'label': [0, 0, 1, 0, 0, 0, 1, 1, 1, 0, 0, 0, 0, 0, 0, 0, 0, 1, 0, 0, 0, 0, 1, 0, 0, 0, 0, 0, 1, 0, 1, 1, 0, 0, 0, 0, 0, 0, 0, 0, 0, 0, 0, 0, 0, 0, 0, 0, 0, 0, 0, 0, 0, 0, 0, 0, 0, 1, 1, 0, 0, 1, 0, 0]}\n"
     ]
    }
   ],
   "source": [
    "# Fetch the first batch from the test loader to inspect its structure\n",
    "first_batch = next(iter(test_loader))\n",
    "\n",
    "# Inspect what the first batch contains\n",
    "print(type(first_batch))\n",
    "print(first_batch.keys())  # If it's a dictionary\n",
    "print(first_batch)  # Print to inspect the content"
   ]
  },
  {
   "cell_type": "code",
   "execution_count": null,
   "metadata": {},
   "outputs": [],
   "source": []
  },
  {
   "cell_type": "code",
   "execution_count": null,
   "metadata": {},
   "outputs": [],
   "source": []
  },
  {
   "cell_type": "markdown",
   "metadata": {},
   "source": [
    "# Prompt"
   ]
  },
  {
   "cell_type": "code",
   "execution_count": 17,
   "metadata": {},
   "outputs": [
    {
     "name": "stdout",
     "output_type": "stream",
     "text": [
      "You are a medical expert with knowledge about electronic health records, patients diagnosis, medications and procedures ran in the hospital. The task is to predict patient mortality based on their medical records. The data is highly imbalanced, with most patients surviving.\n",
      "\n",
      "        Here are two examples:\n",
      "\n",
      "        Example 1 (Survival):\n",
      "        Diagnosis:\n",
      "        - Hypertension\n",
      "        - Type 2 diabetes mellitus\n",
      "        Procedures:\n",
      "        - Electrocardiogram\n",
      "        - Blood glucose measurement\n",
      "        Medications:\n",
      "        - Metformin\n",
      "        - Lisinopril\n",
      "        Prediction: 0\n",
      "\n",
      "        Example 2 (Mortality):\n",
      "        Diagnosis:\n",
      "        - Acute respiratory failure\n",
      "        - Septic shock\n",
      "        - Acute kidney injury\n",
      "        Procedures:\n",
      "        - Mechanical ventilation\n",
      "        - Continuous renal replacement therapy\n",
      "        Medications:\n",
      "        - Norepinephrine\n",
      "        - Broad-spectrum antibiotics\n",
      "        Prediction: 1\n",
      "\n",
      "        Now, predict for this patient:\n",
      "\n",
      "        Diagnosis:\n",
      "        - Twin birth, mate liveborn, born in hospital, delivered by cesarean section\n",
      "- Other preterm infants, 2,500 grams and over\n",
      "- Neonatal jaundice associated with preterm delivery\n",
      "- 33-34 completed weeks of gestation\n",
      "- Need for prophylactic vaccination and inoculation against viral hepatitis\n",
      "\n",
      "        Procedures:\n",
      "        - Circumcision\n",
      "- Prophylactic administration of vaccine against other diseases\n",
      "- Other phototherapy\n",
      "\n",
      "        Medications:\n",
      "        - Hepatitis B Surface Antigen Vaccine 0.01 MG/ML Injectable Suspension [Recombivax HB]\n",
      "- 0.5 ML hepatitis B immune globulin 220 UNT/ML Prefilled Syringe [Hyperhep B]\n",
      "- 20 ML potassium chloride 2 MEQ/ML Injection\n",
      "\n",
      "        Respond **only** with '0' for survival or '1' for mortality. Don't write any details or context.\n"
     ]
    }
   ],
   "source": [
    "# Function to create a prompt without labels for each patient in the batch\n",
    "def create_prompts_without_labels(batch):\n",
    "    visit_ids = batch['visit_id']\n",
    "    patient_ids = batch['patient_id']\n",
    "    conditions_list = batch['conditions']\n",
    "    procedures_list = batch['procedures']\n",
    "    drugs_list = batch['drugs']\n",
    "    \n",
    "    prompts = []\n",
    "    for i in range(len(visit_ids)):\n",
    "        conditions = '\\n'.join([f\"- {condition}\" for condition in conditions_list[i]])\n",
    "        procedures = '\\n'.join([f\"- {procedure}\" for procedure in procedures_list[i]])\n",
    "        drugs = '\\n'.join([f\"- {drug}\" for drug in drugs_list[i]])\n",
    "        \n",
    "        prompt = f\"\"\"\n",
    "        You are a medical expert with knowledge about electronic health records, patients diagnosis, medications and procedures ran in the hospital. The task is to predict patient mortality based on their medical records. The data is highly imbalanced, with most patients surviving.\n",
    "\n",
    "        Here are two examples:\n",
    "\n",
    "        Example 1 (Survival):\n",
    "        Diagnosis:\n",
    "        - Hypertension\n",
    "        - Type 2 diabetes mellitus\n",
    "        Procedures:\n",
    "        - Electrocardiogram\n",
    "        - Blood glucose measurement\n",
    "        Medications:\n",
    "        - Metformin\n",
    "        - Lisinopril\n",
    "        Prediction: 0\n",
    "\n",
    "        Example 2 (Mortality):\n",
    "        Diagnosis:\n",
    "        - Acute respiratory failure\n",
    "        - Septic shock\n",
    "        - Acute kidney injury\n",
    "        Procedures:\n",
    "        - Mechanical ventilation\n",
    "        - Continuous renal replacement therapy\n",
    "        Medications:\n",
    "        - Norepinephrine\n",
    "        - Broad-spectrum antibiotics\n",
    "        Prediction: 1\n",
    "\n",
    "        Now, predict for this patient:\n",
    "\n",
    "        Diagnosis:\n",
    "        {conditions}\n",
    "\n",
    "        Procedures:\n",
    "        {procedures}\n",
    "\n",
    "        Medications:\n",
    "        {drugs}\n",
    "\n",
    "        Respond **only** with '0' for survival or '1' for mortality. Don't write any details or context.\n",
    "        \"\"\"\n",
    "        prompts.append(prompt.strip())\n",
    "    \n",
    "    return prompts\n",
    "\n",
    "# Process the first 500 patients without labels\n",
    "all_prompts = []\n",
    "for batch in test_loader:\n",
    "    prompts = create_prompts_without_labels(batch)\n",
    "    all_prompts.extend(prompts)\n",
    "    if len(all_prompts) >= 200:\n",
    "        break\n",
    "\n",
    "# Optionally: Print the first prompt for review\n",
    "print(all_prompts[0])\n"
   ]
  },
  {
   "cell_type": "code",
   "execution_count": 18,
   "metadata": {},
   "outputs": [],
   "source": [
    "# def create_prompts_from_batch(batch):\n",
    "#     visit_ids = batch['visit_id']\n",
    "#     patient_ids = batch['patient_id']\n",
    "#     conditions_list = batch['conditions']\n",
    "#     procedures_list = batch['procedures']\n",
    "#     drugs_list = batch['drugs']\n",
    "#     labels = batch['label']\n",
    "    \n",
    "#     prompts = []\n",
    "#     for i in range(len(visit_ids)):\n",
    "#         conditions = '\\n'.join([f\"- {condition}\" for condition in conditions_list[i]])\n",
    "#         procedures = '\\n'.join([f\"- {procedure}\" for procedure in procedures_list[i]])\n",
    "#         drugs = '\\n'.join([f\"- {drug}\" for drug in drugs_list[i]])\n",
    "        \n",
    "#         prompt = f\"\"\"\n",
    "#         You are a medical expert with knowledge about electronic health records. You are given the following information about a patient:\n",
    "\n",
    "#         Conditions:\n",
    "#         {conditions}\n",
    "\n",
    "#         Procedures:\n",
    "#         {procedures}\n",
    "\n",
    "#         Drugs:\n",
    "#         {drugs}\n",
    "\n",
    "#         You must only respond **only** with '0' for survival or '1' for mortality, and nothing else.\n",
    "#         \"\"\"\n",
    "#         prompts.append((prompt.strip(), labels[i]))\n",
    "    \n",
    "#     return prompts"
   ]
  },
  {
   "cell_type": "code",
   "execution_count": 19,
   "metadata": {},
   "outputs": [
    {
     "name": "stdout",
     "output_type": "stream",
     "text": [
      "You are a medical expert with knowledge about electronic health records, patients diagnosis, medications and procedures ran in the hospital. The task is to predict patient mortality based on their medical records. The data is highly imbalanced, with most patients surviving.\n",
      "\n",
      "        Here are two examples:\n",
      "\n",
      "        Example 1 (Survival):\n",
      "        Diagnosis:\n",
      "        - Hypertension\n",
      "        - Type 2 diabetes mellitus\n",
      "        Procedures:\n",
      "        - Electrocardiogram\n",
      "        - Blood glucose measurement\n",
      "        Medications:\n",
      "        - Metformin\n",
      "        - Lisinopril\n",
      "        Prediction: 0\n",
      "\n",
      "        Example 2 (Mortality):\n",
      "        Diagnosis:\n",
      "        - Acute respiratory failure\n",
      "        - Septic shock\n",
      "        - Acute kidney injury\n",
      "        Procedures:\n",
      "        - Mechanical ventilation\n",
      "        - Continuous renal replacement therapy\n",
      "        Medications:\n",
      "        - Norepinephrine\n",
      "        - Broad-spectrum antibiotics\n",
      "        Prediction: 1\n",
      "\n",
      "        Now, predict for this patient:\n",
      "\n",
      "        Diagnosis:\n",
      "        - Twin birth, mate liveborn, born in hospital, delivered by cesarean section\n",
      "- Other preterm infants, 2,500 grams and over\n",
      "- Neonatal jaundice associated with preterm delivery\n",
      "- 33-34 completed weeks of gestation\n",
      "- Need for prophylactic vaccination and inoculation against viral hepatitis\n",
      "\n",
      "        Procedures:\n",
      "        - Circumcision\n",
      "- Prophylactic administration of vaccine against other diseases\n",
      "- Other phototherapy\n",
      "\n",
      "        Medications:\n",
      "        - Hepatitis B Surface Antigen Vaccine 0.01 MG/ML Injectable Suspension [Recombivax HB]\n",
      "- 0.5 ML hepatitis B immune globulin 220 UNT/ML Prefilled Syringe [Hyperhep B]\n",
      "- 20 ML potassium chloride 2 MEQ/ML Injection\n",
      "\n",
      "        Respond **only** with '0' for survival or '1' for mortality. Don't write any details or context.\n"
     ]
    }
   ],
   "source": [
    "# # Function to create a prompt for each patient in the batch\n",
    "# def create_prompts_from_batch(batch):\n",
    "#     visit_ids = batch['visit_id']\n",
    "#     patient_ids = batch['patient_id']\n",
    "#     conditions_list = batch['conditions']\n",
    "#     procedures_list = batch['procedures']\n",
    "#     drugs_list = batch['drugs']\n",
    "#     labels = batch['label']\n",
    "    \n",
    "#     prompts = []\n",
    "#     for i in range(len(visit_ids)):\n",
    "#         conditions = '\\n'.join([f\"- {condition}\" for condition in conditions_list[i]])\n",
    "#         procedures = '\\n'.join([f\"- {procedure}\" for procedure in procedures_list[i]])\n",
    "#         drugs = '\\n'.join([f\"- {drug}\" for drug in drugs_list[i]])\n",
    "        \n",
    "#         prompt = f\"\"\"\n",
    "#         You are a medical expert with knowledge about electronic health records.\n",
    "\n",
    "#         Conditions:\n",
    "#         {conditions}\n",
    "\n",
    "#         What is the predicted outcome? Respond with '0' for mortality or '1' for survival, and nothing else.\n",
    "#         \"\"\"\n",
    "#         prompts.append((prompt.strip(), labels[i]))\n",
    "    \n",
    "#     return prompts\n",
    "\n",
    "# Generate prompts from the DataLoader\n",
    "# Process the first 500 patients without labels\n",
    "all_prompts = []\n",
    "for batch in test_loader:\n",
    "    prompts = create_prompts_without_labels(batch)\n",
    "    all_prompts.extend(prompts)\n",
    "    if len(all_prompts) >= 200:\n",
    "        break\n",
    "\n",
    "# Optionally: Print the first prompt for review\n",
    "print(all_prompts[0])"
   ]
  },
  {
   "cell_type": "code",
   "execution_count": 20,
   "metadata": {},
   "outputs": [
    {
     "name": "stdout",
     "output_type": "stream",
     "text": [
      "Number of batches in the test DataLoader: 55\n",
      "Total number of samples in the test DataLoader: 3469\n"
     ]
    }
   ],
   "source": [
    "num_batches = len(test_loader)\n",
    "print(f\"Number of batches in the test DataLoader: {num_batches}\")\n",
    "\n",
    "total_samples = 0\n",
    "for batch in test_loader:\n",
    "    batch_size = len(batch['label'])  # Assuming 'label' is present in each batch\n",
    "    total_samples += batch_size\n",
    "\n",
    "print(f\"Total number of samples in the test DataLoader: {total_samples}\")\n"
   ]
  },
  {
   "cell_type": "code",
   "execution_count": 21,
   "metadata": {},
   "outputs": [],
   "source": [
    "def create_prompts(batch, prompt_style=\"default\"):\n",
    "    visit_ids = batch['visit_id']\n",
    "    patient_ids = batch['patient_id']\n",
    "    conditions_list = batch['conditions']\n",
    "    procedures_list = batch['procedures']\n",
    "    drugs_list = batch['drugs']\n",
    "    \n",
    "    prompts = []\n",
    "    for i in range(len(visit_ids)):\n",
    "        conditions = '\\n'.join([f\"- {condition}\" for condition in conditions_list[i]])\n",
    "        procedures = '\\n'.join([f\"- {procedure}\" for procedure in procedures_list[i]])\n",
    "        drugs = '\\n'.join([f\"- {drug}\" for drug in drugs_list[i]])\n",
    "\n",
    "        base_prompt = f\"\"\"\n",
    "        You are a medical expert with knowledge about electronic health records, patients' diagnosis, medications, and procedures. The task is to predict patient mortality based on their medical records. The data is highly imbalanced for prediction.\n",
    "\n",
    "        Here are two examples:\n",
    "\n",
    "        Example 1 (Survival):\n",
    "        Diagnosis:\n",
    "        - Hypertension\n",
    "        - Type 2 diabetes mellitus\n",
    "        Procedures:\n",
    "        - Electrocardiogram\n",
    "        - Blood glucose measurement\n",
    "        Medications:\n",
    "        - Metformin\n",
    "        - Lisinopril\n",
    "        Prediction: 0\n",
    "\n",
    "        Example 2 (Mortality):\n",
    "        Diagnosis:\n",
    "        - Acute respiratory failure\n",
    "        - Septic shock\n",
    "        - Acute kidney injury\n",
    "        Procedures:\n",
    "        - Mechanical ventilation\n",
    "        - Continuous renal replacement therapy\n",
    "        Medications:\n",
    "        - Norepinephrine\n",
    "        - Broad-spectrum antibiotics\n",
    "        Prediction: 1\n",
    "\n",
    "        Now, predict for this patient:\n",
    "\n",
    "        Diagnosis:\n",
    "        {conditions}\n",
    "\n",
    "        Procedures:\n",
    "        {procedures}\n",
    "\n",
    "        Medications:\n",
    "        {drugs}\n",
    "        \"\"\"\n",
    "\n",
    "        if prompt_style == \"chain_of_thought\":\n",
    "            prompt = base_prompt + \"\"\"\n",
    "            Let's consider this step by step:\n",
    "            1. Evaluate the severity of the conditions.\n",
    "            2. Assess the complexity and risk of the procedures.\n",
    "            3. Consider the impact of the medications.\n",
    "\n",
    "            After considering these factors, make a prediction. Respond with **only** '0' for survival or '1' for mortality.\n",
    "            \"\"\"\n",
    "        \n",
    "        elif prompt_style == \"plan_and_solve\":\n",
    "            prompt = base_prompt + \"\"\"\n",
    "            Follow these steps:\n",
    "            Step 1: Analyze the conditions.\n",
    "            Step 2: Evaluate the procedures performed.\n",
    "            Step 3: Assess the medications.\n",
    "\n",
    "            Now, based on the analysis from each step, make a prediction. Respond with **only** '0' for survival or '1' for mortality. Don't write any details or context.\n",
    "            \"\"\"\n",
    "\n",
    "        elif prompt_style == \"self_consistency\":\n",
    "            prompt = base_prompt + \"\"\"\n",
    "            Consider this information carefully and make a prediction. Repeat this prediction three times to ensure consistency, and provide the most frequent result.\n",
    "\n",
    "            Respond with **only** '0' for survival or '1' for mortality. Don't write any details or context.\n",
    "            \"\"\"\n",
    "        \n",
    "        elif prompt_style == \"contrastive_cot\":\n",
    "            prompt = base_prompt + \"\"\"\n",
    "            Consider which example (Example 1 or Example 2) is more similar to this patient's case.\n",
    "\n",
    "            Which case is more similar? Respond with only '0' for survival or '1' for mortality. Don't write any details or context.\n",
    "            \"\"\"\n",
    "\n",
    "        elif prompt_style == \"iterative_refinement\":\n",
    "            prompt = base_prompt + \"\"\"\n",
    "            Make an initial prediction based on the provided information.\n",
    "\n",
    "            Now, reconsider. If the conditions are severe and the procedures are high risk, would your prediction change? Adjust your response if needed.\n",
    "\n",
    "            Remember to respond with only '0' for survival or '1' for mortality. Don't write any details or context.\n",
    "            \"\"\"\n",
    "\n",
    "        else:\n",
    "            # Default prompt\n",
    "            prompt = base_prompt + \"\"\"\n",
    "            Respond **only** with '0' for survival or '1' for mortality. Don't write any details or context.\n",
    "            \"\"\"\n",
    "        \n",
    "        prompts.append(prompt.strip())\n",
    "\n",
    "    return prompts"
   ]
  },
  {
   "cell_type": "code",
   "execution_count": 22,
   "metadata": {},
   "outputs": [],
   "source": [
    "def process_batches(test_loader, prompt_style=\"default\", max_samples=200):\n",
    "    all_prompts = []\n",
    "    num_prompts = 0  # Track the total number of prompts generated\n",
    "    \n",
    "    for batch in test_loader:\n",
    "        prompts = create_prompts(batch, prompt_style=prompt_style)\n",
    "        \n",
    "        # Calculate how many more prompts we need\n",
    "        remaining_prompts = max_samples - num_prompts\n",
    "        \n",
    "        # Only add the needed number of prompts from the batch\n",
    "        all_prompts.extend(prompts[:remaining_prompts])\n",
    "        \n",
    "        # Update the number of prompts generated\n",
    "        num_prompts += len(prompts[:remaining_prompts])\n",
    "        \n",
    "        if num_prompts >= max_samples:\n",
    "            break\n",
    "    \n",
    "    return all_prompts"
   ]
  },
  {
   "cell_type": "code",
   "execution_count": 23,
   "metadata": {},
   "outputs": [
    {
     "data": {
      "text/plain": [
       "\"You are a medical expert with knowledge about electronic health records, patients' diagnosis, medications, and procedures. The task is to predict patient mortality based on their medical records. The data is highly imbalanced for prediction.\\n\\n        Here are two examples:\\n\\n        Example 1 (Survival):\\n        Diagnosis:\\n        - Hypertension\\n        - Type 2 diabetes mellitus\\n        Procedures:\\n        - Electrocardiogram\\n        - Blood glucose measurement\\n        Medications:\\n        - Metformin\\n        - Lisinopril\\n        Prediction: 0\\n\\n        Example 2 (Mortality):\\n        Diagnosis:\\n        - Acute respiratory failure\\n        - Septic shock\\n        - Acute kidney injury\\n        Procedures:\\n        - Mechanical ventilation\\n        - Continuous renal replacement therapy\\n        Medications:\\n        - Norepinephrine\\n        - Broad-spectrum antibiotics\\n        Prediction: 1\\n\\n        Now, predict for this patient:\\n\\n        Diagnosis:\\n        - Twin birth, mate liveborn, born in hospital, delivered by cesarean section\\n- Other preterm infants, 2,500 grams and over\\n- Neonatal jaundice associated with preterm delivery\\n- 33-34 completed weeks of gestation\\n- Need for prophylactic vaccination and inoculation against viral hepatitis\\n\\n        Procedures:\\n        - Circumcision\\n- Prophylactic administration of vaccine against other diseases\\n- Other phototherapy\\n\\n        Medications:\\n        - Hepatitis B Surface Antigen Vaccine 0.01 MG/ML Injectable Suspension [Recombivax HB]\\n- 0.5 ML hepatitis B immune globulin 220 UNT/ML Prefilled Syringe [Hyperhep B]\\n- 20 ML potassium chloride 2 MEQ/ML Injection\\n        \\n            Respond **only** with '0' for survival or '1' for mortality. Don't write any details or context.\""
      ]
     },
     "execution_count": 23,
     "metadata": {},
     "output_type": "execute_result"
    }
   ],
   "source": [
    "all_prompts = process_batches(test_loader, prompt_style=\"default\", max_samples=200)\n",
    "\n",
    "all_prompts[0]"
   ]
  },
  {
   "cell_type": "markdown",
   "metadata": {},
   "source": [
    "# Chat"
   ]
  },
  {
   "cell_type": "code",
   "execution_count": 24,
   "metadata": {},
   "outputs": [],
   "source": [
    "client = OpenAI(api_key=os.environ.get(\"MY_ENV_VAR\"),)"
   ]
  },
  {
   "cell_type": "code",
   "execution_count": 25,
   "metadata": {},
   "outputs": [],
   "source": [
    "# Function to send the prompt to the GPT-3.5-turbo API\n",
    "def get_prediction(prompt):\n",
    "    system_message = {\"role\": \"system\", \"content\": \"You are a medical expert with knowledge about electronic health records, patients' diagnosis, medications, and procedures. You only answer using 0 for survival or 1 for mortality.\"}\n",
    "\n",
    "    response = client.chat.completions.create(\n",
    "        model=\"gpt-3.5-turbo\",\n",
    "        messages=[\n",
    "            system_message,\n",
    "            {\"role\": \"user\", \"content\": prompt}\n",
    "        ],\n",
    "        max_tokens=1,  # We only need a single token response (\"0\" or \"1\")\n",
    "        temperature= 1 # Lower temperature for more deterministic outputs\n",
    "    )\n",
    "    return response.choices[0].message.content.strip()"
   ]
  },
  {
   "cell_type": "code",
   "execution_count": 26,
   "metadata": {},
   "outputs": [
    {
     "name": "stderr",
     "output_type": "stream",
     "text": [
      "100%|██████████| 200/200 [01:12<00:00,  2.76it/s]\n"
     ]
    }
   ],
   "source": [
    "predictions =[get_prediction(prompt) for prompt in tqdm.tqdm(all_prompts)]"
   ]
  },
  {
   "cell_type": "code",
   "execution_count": null,
   "metadata": {},
   "outputs": [],
   "source": []
  },
  {
   "cell_type": "code",
   "execution_count": 27,
   "metadata": {},
   "outputs": [],
   "source": [
    "# Assuming these are the relevant columns from your DataLoader\n",
    "data = {\n",
    "    'visit_id': [],\n",
    "    'patient_id': [],\n",
    "    'label': [],\n",
    "    'Predictions from ChatGPT': []\n",
    "}\n",
    "\n",
    "for batch in test_loader:\n",
    "    visit_ids = batch['visit_id']\n",
    "    patient_ids = batch['patient_id']\n",
    "    labels = batch['label']\n",
    "\n",
    "    # Generate prompts and predictions\n",
    "    for i in range(len(visit_ids)):\n",
    "        prompt = all_prompts[i]  # Assuming all_prompts is already generated\n",
    "        prediction = predictions[i]  # Assuming predictions list is populated from GPT-3.5-turbo responses\n",
    "\n",
    "        # Append data to dictionary\n",
    "        data['visit_id'].append(visit_ids[i])\n",
    "        data['patient_id'].append(patient_ids[i])\n",
    "        data['label'].append(labels[i])\n",
    "        data['Predictions from ChatGPT'].append(prediction)\n"
   ]
  },
  {
   "cell_type": "code",
   "execution_count": 28,
   "metadata": {},
   "outputs": [],
   "source": [
    "#append to dictionary\n",
    "df_predictions = pd.DataFrame(data)\n",
    "\n",
    "# Save the predictions to a CSV file\n",
    "df_predictions.to_csv(\"mortality_predictions.csv\", index=False)"
   ]
  },
  {
   "cell_type": "code",
   "execution_count": 29,
   "metadata": {},
   "outputs": [
    {
     "data": {
      "text/plain": [
       "0       1\n",
       "1       1\n",
       "2       1\n",
       "3       1\n",
       "4       1\n",
       "       ..\n",
       "3464    1\n",
       "3465    1\n",
       "3466    1\n",
       "3467    1\n",
       "3468    1\n",
       "Name: Predictions from ChatGPT, Length: 3469, dtype: object"
      ]
     },
     "execution_count": 29,
     "metadata": {},
     "output_type": "execute_result"
    }
   ],
   "source": [
    "df_predictions['Predictions from ChatGPT']"
   ]
  },
  {
   "cell_type": "code",
   "execution_count": 30,
   "metadata": {},
   "outputs": [
    {
     "data": {
      "text/plain": [
       "1    3469\n",
       "Name: Predictions from ChatGPT, dtype: int64"
      ]
     },
     "execution_count": 30,
     "metadata": {},
     "output_type": "execute_result"
    }
   ],
   "source": [
    "df_predictions['Predictions from ChatGPT'].value_counts()"
   ]
  },
  {
   "cell_type": "markdown",
   "metadata": {},
   "source": [
    "# Metrics"
   ]
  },
  {
   "cell_type": "code",
   "execution_count": 31,
   "metadata": {},
   "outputs": [
    {
     "name": "stderr",
     "output_type": "stream",
     "text": [
      "/opt/anaconda3/envs/openai/lib/python3.12/site-packages/threadpoolctl.py:1214: RuntimeWarning: \n",
      "Found Intel OpenMP ('libiomp') and LLVM OpenMP ('libomp') loaded at\n",
      "the same time. Both libraries are known to be incompatible and this\n",
      "can cause random crashes or deadlocks on Linux when loaded in the\n",
      "same Python program.\n",
      "Using threadpoolctl may cause crashes or deadlocks. For more\n",
      "information and possible workarounds, please see\n",
      "    https://github.com/joblib/threadpoolctl/blob/master/multiple_openmp.md\n",
      "\n",
      "  warnings.warn(msg, RuntimeWarning)\n"
     ]
    }
   ],
   "source": [
    "from sklearn.metrics import accuracy_score, precision_score, recall_score, f1_score, confusion_matrix\n",
    "\n",
    "actual_labels = df_predictions['label'].astype(int)\n",
    "predicted_labels = df_predictions['Predictions from ChatGPT'].astype(int)"
   ]
  },
  {
   "cell_type": "code",
   "execution_count": 32,
   "metadata": {},
   "outputs": [
    {
     "name": "stdout",
     "output_type": "stream",
     "text": [
      "Accuracy: 0.11\n",
      "Precision: 0.11\n"
     ]
    }
   ],
   "source": [
    "# accruacy and precision\n",
    "# Calculate accuracy\n",
    "accuracy = accuracy_score(actual_labels, predicted_labels)\n",
    "print(f\"Accuracy: {accuracy:.2f}\")\n",
    "\n",
    "# Calculate precision\n",
    "precision = precision_score(actual_labels, predicted_labels,)\n",
    "print(f\"Precision: {precision:.2f}\")"
   ]
  },
  {
   "cell_type": "code",
   "execution_count": 33,
   "metadata": {},
   "outputs": [
    {
     "name": "stdout",
     "output_type": "stream",
     "text": [
      "Recall: 1.00\n",
      "F1-Score: 0.21\n",
      "Confusion Matrix:\n",
      "[[   0 3072]\n",
      " [   0  397]]\n"
     ]
    }
   ],
   "source": [
    "# Calculate recall\n",
    "recall = recall_score(actual_labels, predicted_labels)\n",
    "print(f\"Recall: {recall:.2f}\")\n",
    "\n",
    "# Calculate F1-score\n",
    "f1 = f1_score(actual_labels, predicted_labels,)\n",
    "print(f\"F1-Score: {f1:.2f}\")\n",
    "\n",
    "# Generate the confusion matrix\n",
    "conf_matrix = confusion_matrix(actual_labels, predicted_labels)\n",
    "print(\"Confusion Matrix:\")\n",
    "print(conf_matrix)"
   ]
  },
  {
   "cell_type": "code",
   "execution_count": 34,
   "metadata": {},
   "outputs": [
    {
     "name": "stdout",
     "output_type": "stream",
     "text": [
      "AU-ROC Score: 0.50\n",
      "              precision    recall  f1-score   support\n",
      "\n",
      "           0       0.00      0.00      0.00      3072\n",
      "           1       0.11      1.00      0.21       397\n",
      "\n",
      "    accuracy                           0.11      3469\n",
      "   macro avg       0.06      0.50      0.10      3469\n",
      "weighted avg       0.01      0.11      0.02      3469\n",
      "\n"
     ]
    },
    {
     "name": "stderr",
     "output_type": "stream",
     "text": [
      "/opt/anaconda3/envs/openai/lib/python3.12/site-packages/sklearn/metrics/_classification.py:1517: UndefinedMetricWarning: Precision is ill-defined and being set to 0.0 in labels with no predicted samples. Use `zero_division` parameter to control this behavior.\n",
      "  _warn_prf(average, modifier, f\"{metric.capitalize()} is\", len(result))\n",
      "/opt/anaconda3/envs/openai/lib/python3.12/site-packages/sklearn/metrics/_classification.py:1517: UndefinedMetricWarning: Precision is ill-defined and being set to 0.0 in labels with no predicted samples. Use `zero_division` parameter to control this behavior.\n",
      "  _warn_prf(average, modifier, f\"{metric.capitalize()} is\", len(result))\n",
      "/opt/anaconda3/envs/openai/lib/python3.12/site-packages/sklearn/metrics/_classification.py:1517: UndefinedMetricWarning: Precision is ill-defined and being set to 0.0 in labels with no predicted samples. Use `zero_division` parameter to control this behavior.\n",
      "  _warn_prf(average, modifier, f\"{metric.capitalize()} is\", len(result))\n"
     ]
    }
   ],
   "source": [
    "# print the au-roc score\n",
    "from sklearn.metrics import roc_auc_score\n",
    "\n",
    "roc_auc = roc_auc_score(actual_labels, predicted_labels, average='micro')\n",
    "\n",
    "print(f\"AU-ROC Score: {roc_auc:.2f}\")\n",
    "\n",
    "# print the classification report\n",
    "from sklearn.metrics import classification_report\n",
    "\n",
    "print(classification_report(actual_labels, predicted_labels))"
   ]
  },
  {
   "cell_type": "code",
   "execution_count": 35,
   "metadata": {},
   "outputs": [
    {
     "data": {
      "text/plain": [
       "Text(50.722222222222214, 0.5, 'Actual Labels')"
      ]
     },
     "execution_count": 35,
     "metadata": {},
     "output_type": "execute_result"
    },
    {
     "data": {
      "image/png": "[encoded data removed]",
      "text/plain": [
       "<Figure size 640x480 with 2 Axes>"
      ]
     },
     "metadata": {},
     "output_type": "display_data"
    }
   ],
   "source": [
    "# plot the confusion matrix\n",
    "import seaborn as sns\n",
    "import matplotlib.pyplot as plt\n",
    "\n",
    "sns.heatmap(conf_matrix, annot=True, fmt='d', cmap='Blues')\n",
    "\n",
    "# title and labels\n",
    "plt.title('Confusion Matrix')\n",
    "plt.xlabel('Predicted Labels')\n",
    "plt.ylabel('Actual Labels')"
   ]
  },
  {
   "cell_type": "code",
   "execution_count": 36,
   "metadata": {},
   "outputs": [
    {
     "data": {
      "image/png": "[encoded data removed]",
      "text/plain": [
       "<Figure size 640x480 with 1 Axes>"
      ]
     },
     "metadata": {},
     "output_type": "display_data"
    }
   ],
   "source": [
    "# plot the ROC AUC curve\n",
    "from sklearn.metrics import roc_curve\n",
    "\n",
    "fpr, tpr, thresholds = roc_curve(actual_labels, predicted_labels)\n",
    "\n",
    "plt.plot(fpr, tpr, label='ROC Curve')\n",
    "\n",
    "plt.xlabel('False Positive Rate')\n",
    "plt.ylabel('True Positive Rate')\n",
    "plt.title('ROC Curve')\n",
    "plt.legend()\n",
    "\n",
    "plt.show()"
   ]
  },
  {
   "cell_type": "code",
   "execution_count": 37,
   "metadata": {},
   "outputs": [
    {
     "name": "stdout",
     "output_type": "stream",
     "text": [
      "Average Precision Score: 0.11\n"
     ]
    }
   ],
   "source": [
    "# find the mAp score\n",
    "from sklearn.metrics import average_precision_score\n",
    "\n",
    "average_precision = average_precision_score(actual_labels, predicted_labels)\n",
    "\n",
    "print(f\"Average Precision Score: {average_precision:.2f}\")"
   ]
  },
  {
   "cell_type": "code",
   "execution_count": null,
   "metadata": {},
   "outputs": [],
   "source": []
  }
 ],
 "metadata": {
  "kernelspec": {
   "display_name": "openai",
   "language": "python",
   "name": "python3"
  },
  "language_info": {
   "codemirror_mode": {
    "name": "ipython",
    "version": 3
   },
   "file_extension": ".py",
   "mimetype": "text/x-python",
   "name": "python",
   "nbconvert_exporter": "python",
   "pygments_lexer": "ipython3",
   "version": "3.12.3"
  }
 },
 "nbformat": 4,
 "nbformat_minor": 2
}
