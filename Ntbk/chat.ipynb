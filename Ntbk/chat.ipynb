{
 "cells": [
  {
   "cell_type": "markdown",
   "id": "aca5a77a-af8f-4d0f-b2d1-384dd708bbc4",
   "metadata": {},
   "source": [
    "# Load Environment variable"
   ]
  },
  {
   "cell_type": "code",
   "execution_count": 1,
   "id": "eed3e865-ca6a-44e1-9b9f-94a956d26bbb",
   "metadata": {},
   "outputs": [],
   "source": [
    "import os\n",
    "from dotenv import load_dotenv\n",
    "\n",
    "load_dotenv()\n",
    "\n",
    "MY_ENV_VAR = os.getenv('MY_ENV_VAR')"
   ]
  },
  {
   "cell_type": "code",
   "execution_count": 2,
   "id": "cf0624ea",
   "metadata": {},
   "outputs": [
    {
     "name": "stdout",
     "output_type": "stream",
     "text": [
      "MY_ENV_VAR is set!\n"
     ]
    }
   ],
   "source": [
    "# check if the environment variable is set\n",
    "if MY_ENV_VAR is None:\n",
    "    print('MY_ENV_VAR is not set')\n",
    "else:\n",
    "    print(f'MY_ENV_VAR is set!')"
   ]
  },
  {
   "cell_type": "markdown",
   "id": "cdf3dd7a-ffbc-4948-b0a5-61bb2a7e01ea",
   "metadata": {},
   "source": [
    "# Chat"
   ]
  },
  {
   "cell_type": "code",
   "execution_count": 3,
   "id": "7ffa51ff-17e0-4322-8f3b-72d5c85ef48e",
   "metadata": {},
   "outputs": [],
   "source": [
    "from openai import OpenAI\n",
    "\n",
    "client = OpenAI(api_key=os.environ.get(\"MY_ENV_VAR\"),)\n",
    "\n",
    "def chat_gpt(prompt):\n",
    "    response = client.chat.completions.create(\n",
    "      model=\"gpt-3.5-turbo\",\n",
    "      messages=[\n",
    "        {\"role\": \"user\", \"content\": prompt}\n",
    "      ]\n",
    "    )\n",
    "\n",
    "    return response.choices[0].message.content.strip()\n"
   ]
  },
  {
   "cell_type": "markdown",
   "id": "2d997972",
   "metadata": {},
   "source": [
    "## Load the train data"
   ]
  },
  {
   "cell_type": "code",
   "execution_count": 6,
   "id": "e73f1f9b",
   "metadata": {},
   "outputs": [],
   "source": [
    "import json\n",
    "\n",
    "# Load preprocessed data from JSON file\n",
    "with open('/Users/home/Professor Zijun Yao Lab/GPT experiment/MIMIC III- Fine Tuning/preprocessed_data.json', 'r') as f:\n",
    "    train_data = json.load(f)\n",
    "\n",
    "# Use only the first 100 records\n",
    "train_data = train_data[:100]"
   ]
  },
  {
   "cell_type": "markdown",
   "id": "dde0d94f",
   "metadata": {},
   "source": [
    "## Zero Shot - 1.0"
   ]
  },
  {
   "cell_type": "code",
   "execution_count": 8,
   "id": "c546ff93",
   "metadata": {},
   "outputs": [],
   "source": [
    "# Create a prompt for each patient\n",
    "def create_prompt(patient_features):\n",
    "    age = patient_features['age']\n",
    "    gender = patient_features['gender']\n",
    "    diagnoses = ', '.join(patient_features['diagnoses'])\n",
    "    \n",
    "    prompt = f\"\"\"\n",
    "    Patient Information:\n",
    "    Age: {age}\n",
    "    Gender: {gender}\n",
    "    Diagnoses: {diagnoses}\n",
    "    \n",
    "    Based on the above information, what is the likelihood of mortality within the next year?\n",
    "    \"\"\"\n",
    "    return prompt\n",
    "\n",
    "prompts = [create_prompt(features) for features in train_data]"
   ]
  },
  {
   "cell_type": "code",
   "execution_count": 9,
   "id": "9ec1b17e",
   "metadata": {},
   "outputs": [],
   "source": [
    "# generate prompts and make predictions\n",
    "predictions = [chat_gpt(prompt) for prompt in prompts]\n",
    "\n",
    "# Display the first 5 predictions\n",
    "for i, prediction in enumerate(predictions[:5]):\n",
    "    print(f'Prediction {i+1}: {prediction}')\n",
    "\n",
    "# Save the predictions to a JSON file\n",
    "with open('/Users/home/Professor Zijun Yao Lab/GPT experiment/Prompting/predictions.json', 'w') as f:\n",
    "    json.dump(predictions, f)"
   ]
  },
  {
   "cell_type": "code",
   "execution_count": 15,
   "id": "3311bf9c",
   "metadata": {},
   "outputs": [
    {
     "name": "stdout",
     "output_type": "stream",
     "text": [
      "Predictions saved to predictions.json\n"
     ]
    }
   ],
   "source": [
    "# Generate prompts and make predictions\n",
    "predictions = []\n",
    "\n",
    "for record in train_data:\n",
    "    prompt = create_prompt(record)\n",
    "    prediction = chat_gpt(prompt)\n",
    "    predictions.append({\n",
    "        \"prompt\": prompt,\n",
    "        \"prediction\": prediction,\n",
    "        \"actual\": record[\"completion\"]  # Assuming \"completion\" contains the true labels\n",
    "    })\n",
    "\n",
    "# Save the predictions\n",
    "with open('predictions.json', 'w') as f:\n",
    "    json.dump(predictions, f, indent=4)\n",
    "\n",
    "print(\"Predictions saved to predictions.json\")"
   ]
  },
  {
   "cell_type": "code",
   "execution_count": 10,
   "id": "86e38a01",
   "metadata": {},
   "outputs": [],
   "source": [
    "# print the first 5 predictions\n",
    "for i, prediction in enumerate(predictions[:5]):\n",
    "    print(f'Prediction {i+1}: {prediction[\"prediction\"]}')\n",
    "    print(f'Actual {i+1}: {prediction[\"actual\"]}')\n",
    "    print()"
   ]
  },
  {
   "cell_type": "code",
   "execution_count": null,
   "id": "88b53d12",
   "metadata": {},
   "outputs": [],
   "source": []
  },
  {
   "cell_type": "code",
   "execution_count": null,
   "id": "a7f9c8f0",
   "metadata": {},
   "outputs": [],
   "source": []
  },
  {
   "cell_type": "code",
   "execution_count": null,
   "id": "5ea30440",
   "metadata": {},
   "outputs": [],
   "source": []
  },
  {
   "cell_type": "code",
   "execution_count": null,
   "id": "93a102c5",
   "metadata": {},
   "outputs": [],
   "source": []
  },
  {
   "cell_type": "code",
   "execution_count": null,
   "id": "af5efded",
   "metadata": {},
   "outputs": [],
   "source": []
  },
  {
   "cell_type": "code",
   "execution_count": 11,
   "id": "b9c5d053",
   "metadata": {},
   "outputs": [],
   "source": [
    "# if __name__ == '__main__':\n",
    "#     while True:\n",
    "#         prompt = input('You: ')\n",
    "#         if prompt.lower() in ['exit', 'quit', 'bye']:\n",
    "#             break\n",
    "\n",
    "#         response = chat_gpt(prompt)\n",
    "#         print(f'GPT-3: {response}')"
   ]
  },
  {
   "cell_type": "code",
   "execution_count": null,
   "id": "7efa8f24",
   "metadata": {},
   "outputs": [],
   "source": []
  }
 ],
 "metadata": {
  "kernelspec": {
   "display_name": "Python 3",
   "language": "python",
   "name": "python3"
  },
  "language_info": {
   "codemirror_mode": {
    "name": "ipython",
    "version": 3
   },
   "file_extension": ".py",
   "mimetype": "text/x-python",
   "name": "python",
   "nbconvert_exporter": "python",
   "pygments_lexer": "ipython3",
   "version": "3.12.3"
  }
 },
 "nbformat": 4,
 "nbformat_minor": 5
}
